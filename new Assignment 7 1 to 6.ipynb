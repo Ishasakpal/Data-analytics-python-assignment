{
 "cells": [
  {
   "cell_type": "code",
   "execution_count": 12,
   "id": "59479aa9-d71c-4dde-aa90-6488e4bbff4e",
   "metadata": {},
   "outputs": [
    {
     "name": "stdout",
     "output_type": "stream",
     "text": [
      "Found charlie!\n"
     ]
    }
   ],
   "source": [
    "#1\n",
    "names=[\"Alice\",\"Bob\",\"Charlie\",\"David\"]\n",
    "for n in names:\n",
    " if n==\"Charlie\":\n",
    "  print(\"Found charlie!\")\n",
    "  break"
   ]
  },
  {
   "cell_type": "code",
   "execution_count": 49,
   "id": "deefacc9-b2cc-4463-80a0-6aa1cd58cc34",
   "metadata": {},
   "outputs": [
    {
     "name": "stdout",
     "output_type": "stream",
     "text": [
      "[10, 20, 33, 46, 55]\n"
     ]
    }
   ],
   "source": [
    "#2.\n",
    "numbers=[10,20,33,46,55]\n",
    "for n in numbers:\n",
    " if n % 5!=0:\n",
    "    continue\n",
    "print(numbers)"
   ]
  },
  {
   "cell_type": "code",
   "execution_count": 6,
   "id": "df922c6f-3516-4169-b1ef-2675b9db6b17",
   "metadata": {},
   "outputs": [
    {
     "name": "stdout",
     "output_type": "stream",
     "text": [
      "1\n",
      "3\n",
      "5\n",
      "7\n"
     ]
    }
   ],
   "source": [
    "#3.\n",
    "numbers = [1, 2, 3, 4, 5, 6, 7, 8, 9, 10]\n",
    "for n in numbers:\n",
    "    if n % 2 == 0:    \n",
    "        continue\n",
    "    if n > 7:       \n",
    "        break\n",
    "    print(n)"
   ]
  },
  {
   "cell_type": "code",
   "execution_count": 18,
   "id": "f6fae29d-0b23-4404-8600-04d9e1eb83e1",
   "metadata": {},
   "outputs": [
    {
     "name": "stdout",
     "output_type": "stream",
     "text": [
      "100\n",
      "400\n"
     ]
    }
   ],
   "source": [
    "#4.\n",
    "data=[10,-5,20,0,30,-15,40]\n",
    "for num in data:\n",
    "    if num<0:\n",
    "        continue\n",
    "    if num==0:\n",
    "        break\n",
    "    print(num*num)"
   ]
  },
  {
   "cell_type": "code",
   "execution_count": null,
   "id": "dff86617-6f6a-477f-8886-933f145202dd",
   "metadata": {},
   "outputs": [],
   "source": [
    "#5."
   ]
  },
  {
   "cell_type": "code",
   "execution_count": 43,
   "id": "97eb90b9-c36d-4f44-a9a9-18ccada8a8b8",
   "metadata": {},
   "outputs": [
    {
     "name": "stdout",
     "output_type": "stream",
     "text": [
      "85 Pass\n",
      "92 Pass\n",
      "78 Pass\n",
      "65 Fail\n",
      "95 Pass\n",
      "70 Pass\n",
      "Warning: Invalid score found, skipping...\n",
      "88 Pass\n",
      "55 Fail\n",
      "Perfect Score!\n"
     ]
    }
   ],
   "source": [
    "#6.\n",
    "scores = [85,92,78,65,95,70,-1,88,55,100]\n",
    "for s in scores:\n",
    "    if s < 0:\n",
    "        print(\"Warning: Invalid score found, skipping...\")\n",
    "        continue    \n",
    "    if s == 100:\n",
    "        print(\"Perfect Score!\")\n",
    "        break\n",
    "    if s >= 70:\n",
    "        print(s,\"Pass\")\n",
    "    else:\n",
    "        print(s,\"Fail\")"
   ]
  },
  {
   "cell_type": "code",
   "execution_count": null,
   "id": "321acf36-9eaf-4065-b8a8-55012bb2d146",
   "metadata": {},
   "outputs": [],
   "source": []
  }
 ],
 "metadata": {
  "kernelspec": {
   "display_name": "Python 3 (ipykernel)",
   "language": "python",
   "name": "python3"
  },
  "language_info": {
   "codemirror_mode": {
    "name": "ipython",
    "version": 3
   },
   "file_extension": ".py",
   "mimetype": "text/x-python",
   "name": "python",
   "nbconvert_exporter": "python",
   "pygments_lexer": "ipython3",
   "version": "3.12.7"
  }
 },
 "nbformat": 4,
 "nbformat_minor": 5
}
