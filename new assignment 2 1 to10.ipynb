{
 "cells": [
  {
   "cell_type": "code",
   "execution_count": 1,
   "id": "604e5438-1aef-4ede-b6d8-ba6897db5f37",
   "metadata": {},
   "outputs": [
    {
     "name": "stdin",
     "output_type": "stream",
     "text": [
      "Enter first character: a\n",
      "Enter second character: b\n"
     ]
    },
    {
     "name": "stdout",
     "output_type": "stream",
     "text": [
      "different\n"
     ]
    }
   ],
   "source": [
    "#1.Write a program to check whether two characters entered by the user are the same or different.\n",
    "a=input(\"Enter first character:\")\n",
    "b=input(\"Enter second character:\")\n",
    "if a==b:\n",
    "    print(\"same\")\n",
    "else:\n",
    "    print(\"different\")"
   ]
  },
  {
   "cell_type": "code",
   "execution_count": 3,
   "id": "d601582e-c223-436f-b4b8-31ff1ee60a53",
   "metadata": {},
   "outputs": [
    {
     "name": "stdin",
     "output_type": "stream",
     "text": [
      "Enter a number: 35\n"
     ]
    },
    {
     "name": "stdout",
     "output_type": "stream",
     "text": [
      "yes\n"
     ]
    }
   ],
   "source": [
    "#2.Write a program to check whether a number is divisible by 7 but not by 5.\n",
    "num=int(input(\"Enter a number:\"))\n",
    "if num%7==0 and num%5==0:\n",
    "    print(\"yes\")\n",
    "else:\n",
    "    print(\"no\")"
   ]
  },
  {
   "cell_type": "code",
   "execution_count": 9,
   "id": "a29a2850-0f96-47e5-9605-e928ea9d274b",
   "metadata": {},
   "outputs": [
    {
     "name": "stdin",
     "output_type": "stream",
     "text": [
      "Enter first number: 4\n",
      "Enter second number: 6\n"
     ]
    },
    {
     "name": "stdout",
     "output_type": "stream",
     "text": [
      "even sum\n"
     ]
    }
   ],
   "source": [
    "#3.Write a program to take two numbers and print whether their sum is even or odd.\n",
    "a=int(input(\"Enter first number:\"))\n",
    "b=int(input(\"Enter second number:\"))\n",
    "if (a+b) % 2==0:\n",
    "    print(\"even sum\")\n",
    "else:\n",
    "    print(\"odd sum\")"
   ]
  },
  {
   "cell_type": "code",
   "execution_count": 12,
   "id": "0cd23bf5-6f10-454a-b39d-c8e01b19a5e1",
   "metadata": {},
   "outputs": [
    {
     "name": "stdin",
     "output_type": "stream",
     "text": [
      "Enter first number: 2\n",
      "Enter second number: 1\n"
     ]
    },
    {
     "name": "stdout",
     "output_type": "stream",
     "text": [
      "sum is greater\n"
     ]
    }
   ],
   "source": [
    "#4.Write a program to check whether the sum of two numbers is greater than their product.\n",
    "a=int(input(\"Enter first number:\"))\n",
    "b=int(input(\"Enter second number:\"))\n",
    "if a+b > a*b:\n",
    "    print(\"sum is greater\")\n",
    "else:\n",
    "    print(\"sum is not greater\")"
   ]
  },
  {
   "cell_type": "code",
   "execution_count": 17,
   "id": "84f57ae4-052e-4665-b9e3-1753ab61befd",
   "metadata": {},
   "outputs": [
    {
     "name": "stdin",
     "output_type": "stream",
     "text": [
      "Enter age: 20\n",
      "Enter weight: 55\n"
     ]
    },
    {
     "name": "stdout",
     "output_type": "stream",
     "text": [
      "Eligible to donate blood\n"
     ]
    }
   ],
   "source": [
    "#5.Write a program to check whether a person is eligible to donate blood (age ≥ 18 and weight ≥ 50 kg).\n",
    "age=int(input(\"Enter age:\"))\n",
    "weight=int(input(\"Enter weight:\"))\n",
    "if age>=18 and weight>=50:\n",
    "    print(\"Eligible to donate blood\")\n",
    "else:\n",
    "    print(\"Not eligible to donate blood\")"
   ]
  },
  {
   "cell_type": "code",
   "execution_count": 20,
   "id": "f5cc1c97-c0f8-4e58-a6c4-18897ea3663c",
   "metadata": {},
   "outputs": [
    {
     "name": "stdin",
     "output_type": "stream",
     "text": [
      "Enter first number: 10\n",
      "Enter second number: 20\n",
      "Enter number to check: 15\n"
     ]
    },
    {
     "name": "stdout",
     "output_type": "stream",
     "text": [
      "Exactly halfway\n"
     ]
    }
   ],
   "source": [
    "#6.Write a program to check whether a given number is exactly halfway between two given numbers.\n",
    "a=int(input(\"Enter first number:\"))\n",
    "b=int(input(\"Enter second number:\"))\n",
    "n=int(input(\"Enter number to check:\"))\n",
    "if n==(a + b) / 2:\n",
    "    print(\"Exactly halfway\")\n",
    "else:\n",
    "    print(\"Not halfway\")"
   ]
  },
  {
   "cell_type": "code",
   "execution_count": 24,
   "id": "f8e417c2-af3f-4e48-a4ca-3200907c9cd5",
   "metadata": {},
   "outputs": [
    {
     "name": "stdin",
     "output_type": "stream",
     "text": [
      "Enter maths marks: 35\n",
      "Enter science marks: 45\n",
      "Enter english marks: 60\n"
     ]
    },
    {
     "name": "stdout",
     "output_type": "stream",
     "text": [
      "Not all marks are above 40.\n"
     ]
    }
   ],
   "source": [
    "#7.Write a program to check whether marks in Maths, Science, and English are all above 40.\n",
    "maths=int(input(\"Enter maths marks:\"))\n",
    "science=int(input(\"Enter science marks:\"))\n",
    "english=int(input(\"Enter english marks:\"))\n",
    "if maths>40 and science>40 and english>40:\n",
    "    print(\"All marks are above 40.\")\n",
    "else:\n",
    "    print(\"Not all marks are above 40.\")"
   ]
  },
  {
   "cell_type": "code",
   "execution_count": 36,
   "id": "2480b7b9-be26-43d9-af16-0c2f55d0c47e",
   "metadata": {},
   "outputs": [
    {
     "name": "stdin",
     "output_type": "stream",
     "text": [
      "Enter salary: 30000\n",
      "Enter credit score: 720\n"
     ]
    },
    {
     "name": "stdout",
     "output_type": "stream",
     "text": [
      "Eligible for loan\n"
     ]
    }
   ],
   "source": [
    "#8.Write a program to check whether marks in Maths, Science, and English are all above 40.\n",
    "salary=int(input(\"Enter salary:\"))\n",
    "credit=int(input(\"Enter credit score:\"))\n",
    "if salary >=25000 and credit >=700:\n",
    "    print(\"Eligible for loan\")\n",
    "else:\n",
    "    print(\"Not eligible for loan\")"
   ]
  },
  {
   "cell_type": "code",
   "execution_count": 2,
   "id": "f2c44d9b-c368-4fe5-8933-8708f323d997",
   "metadata": {},
   "outputs": [
    {
     "name": "stdin",
     "output_type": "stream",
     "text": [
      "Enter attendance percentage:  80\n",
      "Assignment submitted? (Y/N):  Y\n"
     ]
    },
    {
     "name": "stdout",
     "output_type": "stream",
     "text": [
      "Allowed\n"
     ]
    }
   ],
   "source": [
    "#9.Given attendance (%) and assignment-submission flag (Y/N), print “Allowed” only if attendance ≥ 75 and submission == 'Y'.\n",
    "attendance = int(input(\"Enter attendance percentage: \"))\n",
    "submission = input(\"Assignment submitted? (Y/N): \")\n",
    "if attendance >= 75 and submission == 'Y':\n",
    "    print(\"Allowed\")\n",
    "else:\n",
    "    print(\"Not Allowed\")\n"
   ]
  },
  {
   "cell_type": "code",
   "execution_count": 37,
   "id": "8f639a3c-5187-4225-89bd-f063b2676861",
   "metadata": {},
   "outputs": [
    {
     "name": "stdin",
     "output_type": "stream",
     "text": [
      "Hours parked: 4\n"
     ]
    },
    {
     "name": "stdout",
     "output_type": "stream",
     "text": [
      "rs50\n"
     ]
    }
   ],
   "source": [
    "#10.10. Given hours parked (integer): 0–2 → ₹20, 3–5 → ₹50, 6–10 → ₹100, >10 → ₹200. Print fee.\n",
    "h=int(input(\"Hours parked:\"))\n",
    "if h<=2:\n",
    "    print(\"rs20\")\n",
    "elif h<=5:\n",
    "    print(\"rs50\")\n",
    "elif h<=10:\n",
    "    print(\"rs100\")\n",
    "else:\n",
    "    print(\"rs200\")"
   ]
  }
 ],
 "metadata": {
  "kernelspec": {
   "display_name": "Python 3 (ipykernel)",
   "language": "python",
   "name": "python3"
  },
  "language_info": {
   "codemirror_mode": {
    "name": "ipython",
    "version": 3
   },
   "file_extension": ".py",
   "mimetype": "text/x-python",
   "name": "python",
   "nbconvert_exporter": "python",
   "pygments_lexer": "ipython3",
   "version": "3.12.7"
  }
 },
 "nbformat": 4,
 "nbformat_minor": 5
}
