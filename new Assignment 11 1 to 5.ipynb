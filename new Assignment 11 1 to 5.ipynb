{
 "cells": [
  {
   "cell_type": "code",
   "execution_count": 110,
   "id": "70e40ee4-afcd-4f4b-ab5a-069325d1d64e",
   "metadata": {},
   "outputs": [
    {
     "name": "stdout",
     "output_type": "stream",
     "text": [
      "Prime\n"
     ]
    }
   ],
   "source": [
    "#1 with parameter\n",
    "def is_prime(n):\n",
    "    for i in range(2,n):\n",
    "        if n%i==0:\n",
    "         return \"Not prime\"\n",
    "    return \"Prime\"\n",
    "print(is_prime(3))"
   ]
  },
  {
   "cell_type": "code",
   "execution_count": 114,
   "id": "a57393b8-30ea-405c-ac24-dd096b2253e6",
   "metadata": {},
   "outputs": [
    {
     "name": "stdin",
     "output_type": "stream",
     "text": [
      "Enter a number: 2\n"
     ]
    },
    {
     "name": "stdout",
     "output_type": "stream",
     "text": [
      "Prime\n"
     ]
    }
   ],
   "source": [
    "#without parameter\n",
    "def is_prime():\n",
    "    n=int(input(\"Enter a number:\"))\n",
    "    for i in range(2,n):\n",
    "        if n%i==0:\n",
    "         return \"Not prime\"\n",
    "    return \"Prime\"\n",
    "print(is_prime())"
   ]
  },
  {
   "cell_type": "code",
   "execution_count": 2,
   "id": "72569077-6538-479e-a6fc-0ccd72295727",
   "metadata": {},
   "outputs": [
    {
     "name": "stdin",
     "output_type": "stream",
     "text": [
      "Enter a number: 345\n"
     ]
    },
    {
     "data": {
      "text/plain": [
       "12"
      ]
     },
     "execution_count": 2,
     "metadata": {},
     "output_type": "execute_result"
    }
   ],
   "source": [
    "#2.#without parameter\n",
    "a=input(\"Enter a number:\")\n",
    "def sum_digit(n):\n",
    "    add=0\n",
    "    for digit in n:\n",
    "        add+=int(digit)\n",
    "    return add\n",
    "sum_digit(a)"
   ]
  },
  {
   "cell_type": "code",
   "execution_count": 5,
   "id": "a97f0abc-f7fe-4e8d-a992-40db4fecc43f",
   "metadata": {},
   "outputs": [
    {
     "name": "stdout",
     "output_type": "stream",
     "text": [
      "14\n"
     ]
    }
   ],
   "source": [
    "#with parameter \n",
    "def sum_digit(n):\n",
    "    add=0\n",
    "    for digit in n:\n",
    "        add+=int(digit)\n",
    "    return add\n",
    "print(sum_digit(\"13244\"))"
   ]
  },
  {
   "cell_type": "code",
   "execution_count": 9,
   "id": "c32d9ff4-d076-428b-ba69-494a622ead57",
   "metadata": {},
   "outputs": [
    {
     "name": "stdin",
     "output_type": "stream",
     "text": [
      "Enter N: 34\n"
     ]
    },
    {
     "name": "stdout",
     "output_type": "stream",
     "text": [
      "595\n"
     ]
    }
   ],
   "source": [
    "#3 without parameteer\n",
    "def sum_natural():\n",
    "    n=int(input(\"Enter N:\"))\n",
    "    total=0\n",
    "    for i in range(1,n+1):\n",
    "        total=total+i\n",
    "    return total\n",
    "print(sum_natural())"
   ]
  },
  {
   "cell_type": "code",
   "execution_count": 19,
   "id": "b1ea9f7a-85cb-4f5d-9158-652968ae4b0b",
   "metadata": {},
   "outputs": [
    {
     "name": "stdout",
     "output_type": "stream",
     "text": [
      "55\n"
     ]
    }
   ],
   "source": [
    "#with paramter\n",
    "def sum_natural(n):\n",
    "    total=0\n",
    "    for i in range(1,n+1):\n",
    "        total=total+i\n",
    "    return total\n",
    "print(sum_natural(10))"
   ]
  },
  {
   "cell_type": "code",
   "execution_count": 59,
   "id": "4ac18515-0aba-47b8-96ed-a816a5de6c38",
   "metadata": {},
   "outputs": [
    {
     "name": "stdout",
     "output_type": "stream",
     "text": [
      "3\n"
     ]
    }
   ],
   "source": [
    "#4.with parameter\n",
    "def count_vowels(s):\n",
    "    vowels=\"aeiouAEIOU\"\n",
    "    count=0\n",
    "    for i in s:\n",
    "        if i in vowels:\n",
    "            count+=1\n",
    "    return count\n",
    "print(count_vowels(\"Hello python\"))"
   ]
  },
  {
   "cell_type": "code",
   "execution_count": 66,
   "id": "ddf56083-8527-4f3c-b810-264a76439f5a",
   "metadata": {},
   "outputs": [
    {
     "name": "stdin",
     "output_type": "stream",
     "text": [
      "Enter a string: hello python\n"
     ]
    },
    {
     "name": "stdout",
     "output_type": "stream",
     "text": [
      "Total number of vowels: 3\n"
     ]
    }
   ],
   "source": [
    "#without parameter\n",
    "def count_vowels():\n",
    "    string=input(\"Enter a string:\")\n",
    "    vowels=\"aeiouAEIOU\"\n",
    "    count=0\n",
    "    for i in string:\n",
    "        if i in vowels:\n",
    "            count+=1\n",
    "    return count\n",
    "print(\"Total number of vowels:\",count_vowels())"
   ]
  },
  {
   "cell_type": "code",
   "execution_count": 88,
   "id": "062de406-3e2d-4d0d-84b0-874e8f2d00a4",
   "metadata": {},
   "outputs": [
    {
     "name": "stdout",
     "output_type": "stream",
     "text": [
      "2.8284271247461903\n"
     ]
    }
   ],
   "source": [
    "#5 with parameter\n",
    "def distance(x1,y1,x2,y2):\n",
    "   d=((x2-x1)**2+(y2-y1)**2)**0.5\n",
    "   return d\n",
    "\n",
    "print(distance(0,2,2,4))"
   ]
  },
  {
   "cell_type": "code",
   "execution_count": 102,
   "id": "463e9595-9765-4d25-8087-d163299124e0",
   "metadata": {},
   "outputs": [
    {
     "name": "stdin",
     "output_type": "stream",
     "text": [
      "x1: 2\n",
      "y1: 3\n",
      "x2: 5\n",
      "y2: 4\n"
     ]
    },
    {
     "name": "stdout",
     "output_type": "stream",
     "text": [
      "distance between points: 3.1622776601683795\n"
     ]
    }
   ],
   "source": [
    "#without parameter\n",
    "x1=int(input(\"x1:\"))\n",
    "y1=int(input(\"y1:\"))\n",
    "x2=int(input(\"x2:\"))\n",
    "y2=int(input(\"y2:\"))\n",
    "def distance():\n",
    "  distance=((x2-x1)**2+(y2-y1)**2)**0.5\n",
    "  print(\"distance between points:\",distance)\n",
    "       \n",
    "distance()"
   ]
  }
 ],
 "metadata": {
  "kernelspec": {
   "display_name": "Python 3 (ipykernel)",
   "language": "python",
   "name": "python3"
  },
  "language_info": {
   "codemirror_mode": {
    "name": "ipython",
    "version": 3
   },
   "file_extension": ".py",
   "mimetype": "text/x-python",
   "name": "python",
   "nbconvert_exporter": "python",
   "pygments_lexer": "ipython3",
   "version": "3.12.7"
  }
 },
 "nbformat": 4,
 "nbformat_minor": 5
}
