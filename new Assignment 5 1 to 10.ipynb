{
 "cells": [
  {
   "cell_type": "code",
   "execution_count": 3,
   "id": "54f8e185-cf73-4513-999c-6a375f7a34e6",
   "metadata": {},
   "outputs": [
    {
     "name": "stdout",
     "output_type": "stream",
     "text": [
      "57\n",
      "67\n",
      "77\n",
      "87\n",
      "97\n"
     ]
    }
   ],
   "source": [
    "#1.Write a Python program to display all numbers between 50 and 100 that end with the digit 7.\n",
    "for num in range(50,101):\n",
    "    if num % 10 == 7:\n",
    "        print(num)"
   ]
  },
  {
   "cell_type": "code",
   "execution_count": 4,
   "id": "a374dfd1-a5d9-4be5-92fc-801760815eab",
   "metadata": {},
   "outputs": [
    {
     "name": "stdin",
     "output_type": "stream",
     "text": [
      "Enter angle in degrees:  40\n"
     ]
    },
    {
     "name": "stdout",
     "output_type": "stream",
     "text": [
      "Acute\n"
     ]
    }
   ],
   "source": [
    "#2.\n",
    "angle = int(input(\"Enter angle in degrees: \"))\n",
    "if angle < 0 or angle > 360:\n",
    "    print(\"Invalid\")\n",
    "elif angle < 90:\n",
    "    print(\"Acute\")\n",
    "elif angle == 90:\n",
    "    print(\"Right\")\n",
    "elif angle < 180:\n",
    "    print(\"Obtuse\")\n",
    "elif angle == 180:\n",
    "    print(\"Straight\")\n",
    "elif angle < 360:\n",
    "    print(\"Reflex\")\n"
   ]
  },
  {
   "cell_type": "code",
   "execution_count": 6,
   "id": "54c91198-bba4-40c2-83bf-49c388f72c84",
   "metadata": {},
   "outputs": [
    {
     "name": "stdin",
     "output_type": "stream",
     "text": [
      "Enter tenure in months:  3\n",
      "Enter salary:  5\n"
     ]
    },
    {
     "name": "stdout",
     "output_type": "stream",
     "text": [
      "Waiver\n"
     ]
    }
   ],
   "source": [
    "#3.Given tenure_months and salary, print “Waiver” if tenure_months > 60 or salary < 20000; else “No Waiver”.\n",
    "tenure_months = int(input(\"Enter tenure in months: \"))\n",
    "salary = int(input(\"Enter salary: \"))\n",
    "if tenure_months > 60 or salary < 20000:\n",
    "    print(\"Waiver\")\n",
    "else:\n",
    "    print(\"No waiver\")"
   ]
  },
  {
   "cell_type": "code",
   "execution_count": 31,
   "id": "4b8b786c-a6c0-4def-b779-ac0e279b8c12",
   "metadata": {},
   "outputs": [
    {
     "name": "stdin",
     "output_type": "stream",
     "text": [
      "Enter length of first rectangle:  3\n",
      "Enter width of first rectangle:  4\n",
      "Enter length of second rectangle:  5\n",
      "Enter width of second rectangle:  6\n"
     ]
    },
    {
     "name": "stdout",
     "output_type": "stream",
     "text": [
      "First rectangle fits inside the second\n"
     ]
    }
   ],
   "source": [
    "#4.Given two rectangles (L1, W1) and (L2, W2), print whether the first fits inside the second without rotation (i.e., L1 ≤ L2 and W1 ≤ W2).\n",
    "L1 = int(input(\"Enter length of first rectangle: \"))\n",
    "W1 = int(input(\"Enter width of first rectangle: \"))\n",
    "L2 = int(input(\"Enter length of second rectangle: \"))\n",
    "W2 = int(input(\"Enter width of second rectangle: \"))\n",
    "if L1 <= L2 and W1 <= W2:\n",
    "    print(\"First rectangle fits inside the second\")\n",
    "else:\n",
    "    print(\"first rectangle does not fit inside the second\")"
   ]
  },
  {
   "cell_type": "code",
   "execution_count": 4,
   "id": "824ae3ed-01b1-46b6-b594-de1f496460e6",
   "metadata": {},
   "outputs": [
    {
     "name": "stdin",
     "output_type": "stream",
     "text": [
      "Enter Q1:  23\n",
      "Enter Q3:  22\n",
      "Enter value x:  25\n"
     ]
    },
    {
     "name": "stdout",
     "output_type": "stream",
     "text": [
      "Outlier\n"
     ]
    }
   ],
   "source": [
    "#7.Given Q1, Q3, and a value x, compute the IQR (= Q3 − Q1). Print whether x is an Outlier if x < Q1 − 1.5*IQR or x > Q3 + 1.5*IQR; else print Not Outlier.\n",
    "Q1 = int(input(\"Enter Q1: \"))\n",
    "Q3 = int(input(\"Enter Q3: \"))\n",
    "x = int(input(\"Enter value x: \"))\n",
    "IQR = Q3 - Q1\n",
    "l= Q1 - 1.5 * IQR\n",
    "h= Q3 + 1.5 * IQR\n",
    "if x < l or x > h:\n",
    "    print(\"Outlier\")\n",
    "else:\n",
    "    print(\"Not Outlier\")"
   ]
  },
  {
   "cell_type": "code",
   "execution_count": 3,
   "id": "7e6c4920-b8a8-4422-9efd-9248aa797a2b",
   "metadata": {},
   "outputs": [
    {
     "name": "stdin",
     "output_type": "stream",
     "text": [
      "Enter a number:  0\n"
     ]
    },
    {
     "name": "stdout",
     "output_type": "stream",
     "text": [
      "f(x) = 5\n"
     ]
    }
   ],
   "source": [
    "#8.Given x, evaluate and print:f(x) = 2x + 3 if x < 0 f(x) = 5 if x = 0 f(x) = x^2 + 1 if x > 0\n",
    "x = int(input(\"Enter a number: \"))\n",
    "if x < 0:\n",
    "    f = 2 * x + 3\n",
    "elif x == 0:\n",
    "    f = 5\n",
    "else:\n",
    "    f = x * x + 1\n",
    "print(\"f(x) =\", f)"
   ]
  },
  {
   "cell_type": "code",
   "execution_count": 6,
   "id": "bcbfaa0e-87cd-40d8-b774-1faf53d0e746",
   "metadata": {},
   "outputs": [
    {
     "name": "stdin",
     "output_type": "stream",
     "text": [
      "Enter the first three-digit integer:  2\n",
      "Enter the second three-digit integer:  3\n"
     ]
    },
    {
     "name": "stdout",
     "output_type": "stream",
     "text": [
      "The two integers contain exactly the same digits.\n"
     ]
    }
   ],
   "source": [
    "#6.Given two three-digit integers, print whether they contain exactly the same digits (in any order)\n",
    "num= int(input(\"Enter the first three-digit integer: \"))\n",
    "num= int(input(\"Enter the second three-digit integer: \"))\n",
    "digits =(list(str(num)))\n",
    "digits = (list(str(num)))\n",
    "if digits == digits:\n",
    "    print(\"The two integers contain exactly the same digits.\")\n",
    "else:\n",
    "    print(\"The two integers do not contain the same digits.\")"
   ]
  },
  {
   "cell_type": "code",
   "execution_count": 20,
   "id": "41289a2d-1016-464a-bf1e-57718b7a7fd1",
   "metadata": {},
   "outputs": [
    {
     "name": "stdin",
     "output_type": "stream",
     "text": [
      "Enter a1:  2\n",
      "Enter b1:  4\n",
      "Enter c1:  6\n",
      "Enter a2:  1\n",
      "Enter b2:  2\n",
      "Enter c2:  3\n"
     ]
    },
    {
     "name": "stdout",
     "output_type": "stream",
     "text": [
      "Infinitely Many Solutions\n"
     ]
    }
   ],
   "source": [
    "#9.\n",
    "a1 = int(input(\"Enter a1: \"))\n",
    "b1 = int(input(\"Enter b1: \"))\n",
    "c1 = int(input(\"Enter c1: \"))\n",
    "a2 = int(input(\"Enter a2: \"))\n",
    "b2 = int(input(\"Enter b2: \"))\n",
    "c2 = int(input(\"Enter c2: \"))\n",
    "if a1 * b2 - a2 * b1:\n",
    "    print(\"Unique Solution\")\n",
    "elif a1 * b2 == a2 * b1 and a1 * c2 == a2 * c1 and b1 * c2 == b2 * c1:\n",
    "    print(\"Infinitely Many Solutions\")\n",
    "else:\n",
    "    print(\"No Solution\")"
   ]
  },
  {
   "cell_type": "code",
   "execution_count": 28,
   "id": "49bc2ee8-1535-4016-8e64-3c01173ea948",
   "metadata": {},
   "outputs": [
    {
     "name": "stdin",
     "output_type": "stream",
     "text": [
      "Enter m1:  2\n",
      "Enter c1:  3\n",
      "Enter m2:  2\n",
      "Enter c2:  5\n"
     ]
    },
    {
     "name": "stdout",
     "output_type": "stream",
     "text": [
      "Parallel\n"
     ]
    }
   ],
   "source": [
    "#10. \n",
    "m1 = int(input(\"Enter m1: \"))\n",
    "c1 = int(input(\"Enter c1: \"))\n",
    "m2 = int(input(\"Enter m2: \"))\n",
    "c2 = int(input(\"Enter c2: \"))\n",
    "if m1 == m2 and c1 != c2:\n",
    "    print(\"Parallel\")\n",
    "elif m1 == m2 and c1 == c2:\n",
    "    print(\"Coincident\")\n",
    "else:\n",
    "    print(\"Intersecting\")\n"
   ]
  },
  {
   "cell_type": "code",
   "execution_count": 40,
   "id": "e1708c7f-416f-41dd-b853-391e356e3675",
   "metadata": {},
   "outputs": [
    {
     "name": "stdin",
     "output_type": "stream",
     "text": [
      " 2\n",
      " 4\n",
      " 6\n",
      " 8\n"
     ]
    },
    {
     "name": "stdout",
     "output_type": "stream",
     "text": [
      "Overlap\n"
     ]
    }
   ],
   "source": [
    "#5.Given closed intervals [a, b] and [c, d] with a ≤ b and c ≤ d, print “Overlap”, “Touch” (meet at a point), or “Disjoint”.\n",
    "a = int(input())\n",
    "b = int(input())\n",
    "c = int(input())\n",
    "d = int(input())\n",
    "if b < c or d <  a:\n",
    "    print(\"Overlap\")\n",
    "elif b == c or d == a:\n",
    "    print(\"Touch\")\n",
    "else:\n",
    "    print(\"Disjoint\")"
   ]
  },
  {
   "cell_type": "code",
   "execution_count": null,
   "id": "53529c11-c76d-4087-94b9-f9f4d4a4d126",
   "metadata": {},
   "outputs": [],
   "source": []
  },
  {
   "cell_type": "code",
   "execution_count": null,
   "id": "6ef3f28b-0120-4540-8250-505099c17443",
   "metadata": {},
   "outputs": [],
   "source": []
  }
 ],
 "metadata": {
  "kernelspec": {
   "display_name": "Python 3 (ipykernel)",
   "language": "python",
   "name": "python3"
  },
  "language_info": {
   "codemirror_mode": {
    "name": "ipython",
    "version": 3
   },
   "file_extension": ".py",
   "mimetype": "text/x-python",
   "name": "python",
   "nbconvert_exporter": "python",
   "pygments_lexer": "ipython3",
   "version": "3.12.7"
  }
 },
 "nbformat": 4,
 "nbformat_minor": 5
}
