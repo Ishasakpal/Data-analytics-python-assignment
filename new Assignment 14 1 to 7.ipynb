{
 "cells": [
  {
   "cell_type": "code",
   "execution_count": 7,
   "id": "d9f526bc-0c5e-486d-b8ae-8066cb0ced67",
   "metadata": {},
   "outputs": [
    {
     "name": "stdin",
     "output_type": "stream",
     "text": [
      "Enter value of x:  23\n"
     ]
    },
    {
     "name": "stdout",
     "output_type": "stream",
     "text": [
      "f(x) = 76\n"
     ]
    }
   ],
   "source": [
    "#1\n",
    "def linear_function(x):\n",
    " return 3 * x + 7\n",
    "x = int(input(\"Enter value of x:\"))\n",
    "print(\"f(x) =\", linear_function(x))"
   ]
  },
  {
   "cell_type": "code",
   "execution_count": null,
   "id": "26fc1851-5e4a-47d9-90f6-651198deb02a",
   "metadata": {},
   "outputs": [],
   "source": [
    "#2\n"
   ]
  },
  {
   "cell_type": "code",
   "execution_count": 8,
   "id": "46d59e3a-93c3-4633-90d3-c1d956d907c3",
   "metadata": {},
   "outputs": [
    {
     "name": "stdin",
     "output_type": "stream",
     "text": [
      "Enter value of x:  5\n"
     ]
    },
    {
     "name": "stdout",
     "output_type": "stream",
     "text": [
      "f(x) = 36\n"
     ]
    }
   ],
   "source": [
    "#3\n",
    "def f(x):\n",
    "    return x**2 + 2*x + 1\n",
    "x = int(input(\"Enter value of x: \"))\n",
    "print(\"f(x) =\", f(x))"
   ]
  },
  {
   "cell_type": "code",
   "execution_count": 24,
   "id": "ae93f944-ebeb-40ea-b3a6-268815e57fff",
   "metadata": {},
   "outputs": [
    {
     "name": "stdin",
     "output_type": "stream",
     "text": [
      "Enter a number:  8\n"
     ]
    },
    {
     "data": {
      "text/plain": [
       "True"
      ]
     },
     "execution_count": 24,
     "metadata": {},
     "output_type": "execute_result"
    }
   ],
   "source": [
    "#4\n",
    "def is_solution(x):\n",
    "    return 2*x - 5 == 11\n",
    "x = int(input(\"Enter a number: \"))\n",
    "is_solution(x)"
   ]
  },
  {
   "cell_type": "code",
   "execution_count": 47,
   "id": "7e9ad56a-deb7-44fc-b221-300dae8fb43e",
   "metadata": {},
   "outputs": [
    {
     "name": "stdin",
     "output_type": "stream",
     "text": [
      "Enter value of a:  3\n"
     ]
    },
    {
     "name": "stdout",
     "output_type": "stream",
     "text": [
      "Factorized form: (x + 3)^2\n"
     ]
    }
   ],
   "source": [
    "#5\n",
    "def factorize(a):\n",
    "    return \"(x + \" + str(a)+\")^2\"\n",
    "a = int(input(\"Enter value of a:\"))\n",
    "print(\"Factorized form:\",factorize(a))"
   ]
  },
  {
   "cell_type": "code",
   "execution_count": 48,
   "id": "ce0c8061-07fc-43d0-a817-d6db86cbfb98",
   "metadata": {},
   "outputs": [],
   "source": [
    "#6\n"
   ]
  },
  {
   "cell_type": "code",
   "execution_count": 40,
   "id": "b93fddc6-33a9-4ffd-bc6a-1ab098d3c3a1",
   "metadata": {},
   "outputs": [
    {
     "name": "stdin",
     "output_type": "stream",
     "text": [
      "Enter n:  7\n"
     ]
    },
    {
     "name": "stdout",
     "output_type": "stream",
     "text": [
      "28\n"
     ]
    }
   ],
   "source": [
    "#7\n",
    "def sum_natural(n):\n",
    "    return  n * (n + 1) // 2\n",
    "n = int(input(\"Enter n:\"))\n",
    "print(sum_natural(n))"
   ]
  }
 ],
 "metadata": {
  "kernelspec": {
   "display_name": "Python 3 (ipykernel)",
   "language": "python",
   "name": "python3"
  },
  "language_info": {
   "codemirror_mode": {
    "name": "ipython",
    "version": 3
   },
   "file_extension": ".py",
   "mimetype": "text/x-python",
   "name": "python",
   "nbconvert_exporter": "python",
   "pygments_lexer": "ipython3",
   "version": "3.12.7"
  }
 },
 "nbformat": 4,
 "nbformat_minor": 5
}
