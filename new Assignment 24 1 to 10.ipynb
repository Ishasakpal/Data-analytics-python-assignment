{
 "cells": [
  {
   "cell_type": "code",
   "execution_count": 13,
   "id": "6d33e3b7-e6c2-4eee-9ebd-cbecfda19b85",
   "metadata": {},
   "outputs": [
    {
     "name": "stdout",
     "output_type": "stream",
     "text": [
      "[2, 4, 5, 6]\n"
     ]
    }
   ],
   "source": [
    "#1.\n",
    "floats = [2.4, 5.8, 7.3, 7.5]\n",
    "integers = list(map(lambda x:int(x),number))\n",
    "print(integers)"
   ]
  },
  {
   "cell_type": "code",
   "execution_count": 7,
   "id": "16174053-520d-4ee1-8fb2-6c905a0be1dd",
   "metadata": {},
   "outputs": [
    {
     "name": "stdout",
     "output_type": "stream",
     "text": [
      "[3, 5, 7, 0]\n"
     ]
    }
   ],
   "source": [
    "#2.\n",
    "nums = [123, 25, 57, 870]\n",
    "units = [x % 10 for x in nums]\n",
    "print(units)"
   ]
  },
  {
   "cell_type": "code",
   "execution_count": 11,
   "id": "1afd0fa3-9ad9-49f9-9497-d9ef2b8355fb",
   "metadata": {},
   "outputs": [
    {
     "name": "stdout",
     "output_type": "stream",
     "text": [
      "[1, 4, 25, 216]\n"
     ]
    }
   ],
   "source": [
    "#3.\n",
    "number=[2,4,5,6]\n",
    "result=list(map(lambda x:x[1]**x[0],enumerate(number)))\n",
    "print(result)"
   ]
  },
  {
   "cell_type": "code",
   "execution_count": 16,
   "id": "47889e43-6771-4b17-bf4f-1f357ee3638a",
   "metadata": {},
   "outputs": [
    {
     "name": "stdout",
     "output_type": "stream",
     "text": [
      "[140, 999, 677]\n"
     ]
    }
   ],
   "source": [
    "#4.\n",
    "nums = [6, 140, 999, 46, 677, 1000]\n",
    "print(list(filter(lambda x: 100 <= x <= 999, nums)))"
   ]
  },
  {
   "cell_type": "code",
   "execution_count": 14,
   "id": "c12dfefd-ad75-4a63-a80d-47ded84e3174",
   "metadata": {},
   "outputs": [
    {
     "name": "stdout",
     "output_type": "stream",
     "text": [
      "[1, 7]\n"
     ]
    }
   ],
   "source": [
    "#5.\n",
    "number=[1,2,3,4,5,6,7,8]\n",
    "result=list(filter(lambda x: x%2!=0 and x%3!=0 and x%5!=0,number))\n",
    "print(result)"
   ]
  },
  {
   "cell_type": "code",
   "execution_count": null,
   "id": "89364cac-575e-4339-8709-2b8ea57c1163",
   "metadata": {},
   "outputs": [],
   "source": [
    "#6.\n"
   ]
  },
  {
   "cell_type": "code",
   "execution_count": null,
   "id": "17de1ea4-7026-4673-937e-907c2584c47c",
   "metadata": {},
   "outputs": [],
   "source": [
    "#7.\n"
   ]
  },
  {
   "cell_type": "code",
   "execution_count": null,
   "id": "41bebd23-71a1-4b11-a781-b948de21a26b",
   "metadata": {},
   "outputs": [],
   "source": [
    "#8.\n"
   ]
  },
  {
   "cell_type": "code",
   "execution_count": null,
   "id": "0ab5188c-6f31-4bd4-ab76-235b9d57a1fc",
   "metadata": {},
   "outputs": [],
   "source": [
    "#9.\n"
   ]
  },
  {
   "cell_type": "code",
   "execution_count": null,
   "id": "41dbcc45-9422-4061-b7d0-c6e344e57adb",
   "metadata": {},
   "outputs": [],
   "source": [
    "#10.\n"
   ]
  }
 ],
 "metadata": {
  "kernelspec": {
   "display_name": "Python 3 (ipykernel)",
   "language": "python",
   "name": "python3"
  },
  "language_info": {
   "codemirror_mode": {
    "name": "ipython",
    "version": 3
   },
   "file_extension": ".py",
   "mimetype": "text/x-python",
   "name": "python",
   "nbconvert_exporter": "python",
   "pygments_lexer": "ipython3",
   "version": "3.12.7"
  }
 },
 "nbformat": 4,
 "nbformat_minor": 5
}
