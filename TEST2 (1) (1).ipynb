{
 "cells": [
  {
   "cell_type": "markdown",
   "id": "1873775b-ebc3-40d4-8463-c89e982ccb35",
   "metadata": {},
   "source": [
    "# Test 2 - Functions - User Defined "
   ]
  },
  {
   "cell_type": "markdown",
   "id": "1fe1faee-fb1a-41e9-ad4c-7b08f09bd5df",
   "metadata": {},
   "source": [
    "## 1. Write a python function to caluclate the sum of cubes upto n. Take n from the user. "
   ]
  },
  {
   "cell_type": "code",
   "execution_count": 6,
   "id": "eb91bedb-5b6e-4c7c-a0b6-22767edc8ba2",
   "metadata": {},
   "outputs": [
    {
     "name": "stdin",
     "output_type": "stream",
     "text": [
      "Enter a positive integer:  4\n"
     ]
    },
    {
     "name": "stdout",
     "output_type": "stream",
     "text": [
      "The sum of cubes: 100\n"
     ]
    }
   ],
   "source": [
    "def sum_of_cubes(n):\n",
    "    total = 0\n",
    "    for i in range(1, n + 1):\n",
    "        total += i ** 3\n",
    "    return total\n",
    "n = int(input(\"Enter a positive integer: \"))\n",
    "total = sum_of_cubes(n)\n",
    "print(\"The sum of cubes:\",total)"
   ]
  },
  {
   "cell_type": "markdown",
   "id": "8edd4492-55f0-4857-9919-4c5b015cd492",
   "metadata": {},
   "source": [
    "#2. Write a python function to check if two temperatures are in Opposite Seasons.  i.e One temperature is less than 20°C and the other is more than 30°C."
   ]
  },
  {
   "cell_type": "code",
   "execution_count": 90,
   "id": "9a4f6283-2dd0-4b73-b84d-c4bd2e8b6872",
   "metadata": {},
   "outputs": [
    {
     "name": "stdout",
     "output_type": "stream",
     "text": [
      "Opposite Seasons\n"
     ]
    }
   ],
   "source": [
    "def check_opposite_seasons(temp1, temp2):\n",
    "    if temp1 < 20 and temp2 > 30:\n",
    "        print(\"Opposite Seasons\")\n",
    "    else:\n",
    "        print(\"Not Opposite Seasons\")\n",
    "check_opposite_seasons(14, 38)"
   ]
  },
  {
   "cell_type": "markdown",
   "id": "1f602032-74af-475f-ab96-04cc28e04a68",
   "metadata": {},
   "source": [
    "## 3. Write a python function to check whether a three-digit number has exactly two digits equal (e.g., 121, 133).\n",
    "\n"
   ]
  },
  {
   "cell_type": "code",
   "execution_count": null,
   "id": "14a74c41-b7cf-45f1-bb94-a1e874df604f",
   "metadata": {},
   "outputs": [],
   "source": []
  },
  {
   "cell_type": "markdown",
   "id": "db7113e3-5005-4369-b988-239c679b5f25",
   "metadata": {},
   "source": [
    "# 4. Write a python function to check whether the tens place digit of two three-digit numbers is the same."
   ]
  },
  {
   "cell_type": "code",
   "execution_count": 15,
   "id": "516a633a-f358-4e1d-a71c-0278004fdb1d",
   "metadata": {},
   "outputs": [
    {
     "name": "stdout",
     "output_type": "stream",
     "text": [
      "The tens place digits are different.\n"
     ]
    }
   ],
   "source": [
    "def check_tens_place_same(num1, num2):\n",
    "    tens1 = (num1 // 10) % 10\n",
    "    tens2 = (num2 // 10) % 10\n",
    "    if tens1 == tens2:\n",
    "        print(\"The tens place digits are the same.\")\n",
    "    else:\n",
    "        print(\"The tens place digits are different.\")\n",
    "check_tens_place_same(123, 243)"
   ]
  },
  {
   "cell_type": "markdown",
   "id": "7f49c126-f863-46e0-b49c-009bdf380b3b",
   "metadata": {},
   "source": [
    "## 5. Write a python function to compare two fractions. \n",
    "Given integers a, b, c, d (denominators non-zero), print which fraction is larger: a/b or c/d, or if they are equal (compare by cross-multiplying)."
   ]
  },
  {
   "cell_type": "code",
   "execution_count": 93,
   "id": "463578b3-7555-457a-a724-03c7adab2a26",
   "metadata": {},
   "outputs": [
    {
     "name": "stdout",
     "output_type": "stream",
     "text": [
      "c/d\n"
     ]
    }
   ],
   "source": [
    "def compare_fractions(a, b, c, d):\n",
    "    if a * a > b * c:\n",
    "        print(\"a/b\")\n",
    "    elif a * d < b * c:\n",
    "        print(\"c/d\")\n",
    "compare_fractions(1, 2, 3, 4)"
   ]
  },
  {
   "cell_type": "markdown",
   "id": "fda4c171-b12f-4ab3-947a-733bab499243",
   "metadata": {},
   "source": [
    "## 6. Write a python function for target matching. Given numbers a, b, t, print whether t equals a, or b, or a+b, or a-b, or b-a. If none, print “No Match”.\n",
    "\n"
   ]
  },
  {
   "cell_type": "code",
   "execution_count": 24,
   "id": "f2ac0201-f802-4806-83d6-ebadc33b6371",
   "metadata": {},
   "outputs": [
    {
     "name": "stdout",
     "output_type": "stream",
     "text": [
      "No Match\n"
     ]
    }
   ],
   "source": [
    "def target_match(a, b, t):\n",
    "    if t == a or t == b or t == a + b or t == a - b or t == b - a:\n",
    "        print(\"The match\")\n",
    "    else:\n",
    "        print(\"No Match\")\n",
    "target_match(4, 3, 2)"
   ]
  },
  {
   "cell_type": "markdown",
   "id": "bd3d681f-ee64-4ad1-a9c6-50dfbca54107",
   "metadata": {},
   "source": [
    "## 7. Write a python function for Rectangle Fit (No Rotation). Given two rectangles (L1, W1) and (L2, W2), print whether the first fits inside the second without rotation (i.e., L1 ≤ L2 and W1 ≤ W2).\n",
    "\n"
   ]
  },
  {
   "cell_type": "code",
   "execution_count": 26,
   "id": "aa82cb92-0615-4696-8af3-a05b5cf93c85",
   "metadata": {},
   "outputs": [
    {
     "name": "stdout",
     "output_type": "stream",
     "text": [
      "The first fits inside\n"
     ]
    }
   ],
   "source": [
    "def rectangle_fit(L1, W1, L2, W2):\n",
    "    if L1 <= L2 and W1 <= W2:\n",
    "        print(\"The first fits inside\")\n",
    "    else:\n",
    "        print(\"The second without rotattion\")\n",
    "rectangle_fit(4, 2, 4, 5)"
   ]
  },
  {
   "cell_type": "markdown",
   "id": "c535b963-3a73-4e0b-bebc-cd7e9a6cacd8",
   "metadata": {},
   "source": [
    "## 8. Write a python function for point vs circle.Given center (h, k), radius r, and point (x, y), compare (x−h)^2 + (y−k)^2 with r^2 to print “Inside”, “On”, or “Outside”.\n",
    "\n"
   ]
  },
  {
   "cell_type": "code",
   "execution_count": 94,
   "id": "2a13032d-7c55-4ecd-93ea-5f499e86e9ab",
   "metadata": {},
   "outputs": [
    {
     "name": "stdout",
     "output_type": "stream",
     "text": [
      "Inside\n"
     ]
    }
   ],
   "source": [
    "def point_vs_circle(h, k, r, x, y):\n",
    "    d = (x - h)*2 + (y - k)*2\n",
    "    if d < r**2:\n",
    "        print(\"Inside\")\n",
    "    elif d == r**2:\n",
    "        print(\"On\")\n",
    "    else:\n",
    "        print(\"Outside\")\n",
    "point_vs_circle(0, 1, 5, 3, 4)"
   ]
  },
  {
   "cell_type": "markdown",
   "id": "09072fe4-2002-456c-9c7f-9973c937db5d",
   "metadata": {},
   "source": [
    "# 9. Write a python function for Digit Anagram (3-Digit vs 3-Digit).Given two three-digit integers, print whether they contain exactly the same digits (in any order). (Solve by extracting hundreds/tens/ones and comparing with conditional logic—no loops/collections.)"
   ]
  },
  {
   "cell_type": "code",
   "execution_count": null,
   "id": "707f7c25-b893-4ad4-87cd-956d061e2d02",
   "metadata": {},
   "outputs": [],
   "source": []
  },
  {
   "cell_type": "markdown",
   "id": "e22fd801-ac0f-41d6-a05c-123ba870852a",
   "metadata": {},
   "source": [
    "# 10. Write a python function to calculate Z-score.Calculate population mean μ, standard deviation σ (σ > 0), and value x, compute z = (x−μ)/σ and print the band: Within 1σ, Within 2σ, Within 3σ, or Beyond 3σ . Take a list of 10 numbers. "
   ]
  },
  {
   "cell_type": "code",
   "execution_count": null,
   "id": "2e0835f6-c5b9-4812-a307-aabca2cace17",
   "metadata": {},
   "outputs": [],
   "source": []
  },
  {
   "cell_type": "markdown",
   "id": "cddc10ff-b856-45b3-82da-f9d823ffd66e",
   "metadata": {},
   "source": [
    "## 11. Write a Python function that takes two risk values rA and rB (both floats in the range [0, 1]) and computes the Risk Ratio (RR) as RR = rA / rB. The function should then return a string based on the following conditions:\n",
    "\n",
    "- Return \"Increased Risk\" if RR > 1,\n",
    "\n",
    "- Return \"Decreased Risk\" if RR < 1,\n",
    "\n",
    "- Return \"No Change\" if RR == 1."
   ]
  },
  {
   "cell_type": "code",
   "execution_count": 95,
   "id": "e895403f-023f-4664-9118-2d146372dc79",
   "metadata": {},
   "outputs": [
    {
     "name": "stdout",
     "output_type": "stream",
     "text": [
      "Decreased risk\n"
     ]
    }
   ],
   "source": [
    "def risk_ratio(rA, rB):\n",
    "    RR = rA / rB\n",
    "    if RR == 1:\n",
    "        return \"No change\"\n",
    "    elif RR > 1:\n",
    "        return \"Increased risk\"\n",
    "    elif RR < 1:\n",
    "        return \"Decreased risk\"\n",
    "print(risk_ratio(0.1, 0.2))"
   ]
  },
  {
   "cell_type": "markdown",
   "id": "3318f36c-7811-4989-93b1-2e9b867a600a",
   "metadata": {},
   "source": [
    "## 12. Write a python function to calculate confidence interval. Given a sample list data and confidence level conf=0.95, return the margin of error using z=1.96 for 95% confidence.\n",
    "\n",
    "Formula:\n",
    "\n",
    "$$ \\text{Margin of Error} = Z \\times \\frac{\\sigma}{\\sqrt{n}} $$\n",
    "\n",
    "\n"
   ]
  },
  {
   "cell_type": "code",
   "execution_count": null,
   "id": "1a887147-139e-4ff0-8ba6-b0ebec7a4570",
   "metadata": {},
   "outputs": [],
   "source": []
  },
  {
   "cell_type": "markdown",
   "id": "01099bac-fe66-4b4a-b59d-a84ad9c6b2d2",
   "metadata": {},
   "source": [
    "## 13. Write a function for odds comparison. Given probabilities pA, pB (0..1, not 0 or 1), compute odds p/(1−p) for each and print which has Higher Odds or Equal.\n",
    "\n"
   ]
  },
  {
   "cell_type": "code",
   "execution_count": 71,
   "id": "ff4ff9ee-6f5d-43c8-9607-2303626d41fd",
   "metadata": {},
   "outputs": [
    {
     "name": "stdout",
     "output_type": "stream",
     "text": [
      "Higher Odds: pB\n"
     ]
    }
   ],
   "source": [
    "def odds_comparison(pA, pB):\n",
    "    odds_A = pA / (1 - pA)\n",
    "    odds_B = pB / (1 - pB)\n",
    "    if odds_A > odds_B:\n",
    "        print(\"Higher Odds: pA\")\n",
    "    elif odds_A < odds_B:\n",
    "        print(\"Higher Odds: pB\")\n",
    "    else:\n",
    "        print(\"Equal Odds\")\n",
    "odds_comparison(0.1, 0.5)"
   ]
  },
  {
   "cell_type": "markdown",
   "id": "0b4ee352-cf67-4dbe-90ad-77960d1c083c",
   "metadata": {},
   "source": [
    "## 14. Write a python function for comparing two linear expressions. Given x, and coefficients a,b,c,d, compare a*x + b vs c*x + d and print which is larger or Equal.\n",
    "\n"
   ]
  },
  {
   "cell_type": "code",
   "execution_count": 76,
   "id": "dc3c75db-cbd7-4e8f-8c7c-066fec378697",
   "metadata": {},
   "outputs": [
    {
     "name": "stdout",
     "output_type": "stream",
     "text": [
      "cx + d is larger\n"
     ]
    }
   ],
   "source": [
    "def compare_linear_expressions(x, a, b, c, d):\n",
    "    expression1 = a * x + b\n",
    "    expression2 = c * x + d\n",
    "    if expression1 > expression2:\n",
    "        print(\"ax + b is larger\")\n",
    "    elif expression1 < expression2:\n",
    "        print(\"cx + d is larger\")\n",
    "    else:\n",
    "        print(\"This expressions are equal\")\n",
    "compare_linear_expressions(1, 2, 3, 4, 5)"
   ]
  },
  {
   "cell_type": "markdown",
   "id": "ff448619-d576-4a8b-86fb-ee95ef11bfbf",
   "metadata": {},
   "source": [
    "## 15. Write a python function for checking collinearity of three points.Given points A(x1,y1), B(x2,y2), C(x3,y3), use area/determinant test. \n",
    "If x1(y2−y3) + x2(y3−y1) + x3(y1−y2) = 0, print Collinear, else Not Collinear."
   ]
  },
  {
   "cell_type": "code",
   "execution_count": 80,
   "id": "2c32182f-ef74-4d87-8224-bbf7972e0968",
   "metadata": {},
   "outputs": [
    {
     "name": "stdout",
     "output_type": "stream",
     "text": [
      "collinear.\n"
     ]
    }
   ],
   "source": [
    "def are_points_collinear(x1, y1, x2, y2, x3, y3):\n",
    "    area = x1 * (y2 - y3) + x2 * (y3 - y1) + x3 * (y1 - y2)\n",
    "    if area == 0:\n",
    "        print(\"collinear.\")\n",
    "    else:\n",
    "        print(\"not collinear.\")\n",
    "are_points_collinear(1, 2, 2, 4, 3, 6)"
   ]
  }
 ],
 "metadata": {
  "kernelspec": {
   "display_name": "Python 3 (ipykernel)",
   "language": "python",
   "name": "python3"
  },
  "language_info": {
   "codemirror_mode": {
    "name": "ipython",
    "version": 3
   },
   "file_extension": ".py",
   "mimetype": "text/x-python",
   "name": "python",
   "nbconvert_exporter": "python",
   "pygments_lexer": "ipython3",
   "version": "3.12.7"
  }
 },
 "nbformat": 4,
 "nbformat_minor": 5
}
