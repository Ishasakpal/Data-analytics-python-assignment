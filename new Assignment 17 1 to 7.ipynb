{
 "cells": [
  {
   "cell_type": "code",
   "execution_count": null,
   "id": "aeee1b6b-7130-49c0-ac47-857c8c849350",
   "metadata": {},
   "outputs": [],
   "source": [
    "#1\n"
   ]
  },
  {
   "cell_type": "code",
   "execution_count": 22,
   "id": "2daf24fe-95b0-4eac-a4cd-bc1cb671e68d",
   "metadata": {},
   "outputs": [
    {
     "name": "stdout",
     "output_type": "stream",
     "text": [
      "Perpendicular\n",
      "Not Perpendicular\n"
     ]
    }
   ],
   "source": [
    "#2\n",
    "def perpendicular(a1,b1,c1, a2,b2,c2):\n",
    "    dot = a1*a2 + b1*b2 + c1*c2\n",
    "    if dot == 0:\n",
    "        print(\"Perpendicular\")\n",
    "    else:\n",
    "        print(\"Not Perpendicular\")\n",
    "perpendicular(1,0,0, 0,2,0)  \n",
    "perpendicular(1,2,3, 4,5,6)  "
   ]
  },
  {
   "cell_type": "code",
   "execution_count": 26,
   "id": "40f47469-fa52-4f8b-9a9f-2904ca1a81ca",
   "metadata": {},
   "outputs": [
    {
     "name": "stdout",
     "output_type": "stream",
     "text": [
      "35\n"
     ]
    }
   ],
   "source": [
    "#3\n",
    "def gcd(a,b):\n",
    "    if b == 0:\n",
    "        return a\n",
    "    return gcd(b, a % b)\n",
    "def lcm(a,b):\n",
    "    return (a*b) // gcd(a,b)\n",
    "print(lcm(7,5))"
   ]
  },
  {
   "cell_type": "code",
   "execution_count": 27,
   "id": "70ef756c-6b2a-4194-8a5e-12e326b3e988",
   "metadata": {},
   "outputs": [
    {
     "name": "stdout",
     "output_type": "stream",
     "text": [
      "6\n"
     ]
    }
   ],
   "source": [
    "#4\n",
    "def gcd(a,b):\n",
    "    if b==0:\n",
    "        return a\n",
    "    else:\n",
    "        return gcd(b,a%b)\n",
    "print(gcd(48,18))"
   ]
  },
  {
   "cell_type": "code",
   "execution_count": 31,
   "id": "4cded7ea-58e3-411e-9dd4-8880f450ed64",
   "metadata": {},
   "outputs": [
    {
     "name": "stdout",
     "output_type": "stream",
     "text": [
      "True\n"
     ]
    }
   ],
   "source": [
    "#5\n",
    "def is_prime(n, i=2):\n",
    "    if n <= 2:\n",
    "        return n == 2\n",
    "    if n % i == 0:\n",
    "        return False\n",
    "    if i*i > n:\n",
    "        return True\n",
    "    return is_prime(n, i+1)\n",
    "print(is_prime(2))"
   ]
  },
  {
   "cell_type": "code",
   "execution_count": 35,
   "id": "7960ac29-57a7-4ea6-a032-15cf89b2e2a3",
   "metadata": {},
   "outputs": [
    {
     "name": "stdout",
     "output_type": "stream",
     "text": [
      "6\n"
     ]
    }
   ],
   "source": [
    "#6\n",
    "\n",
    "def product_of_digits(n):\n",
    "    if n < 10:\n",
    "        return n\n",
    "    return (n % 10) * product_of_digits(n // 10)\n",
    "print(product_of_digits(123))"
   ]
  },
  {
   "cell_type": "code",
   "execution_count": 42,
   "id": "7f65b2a4-ac5e-4ddf-b297-a4bf1f7d7321",
   "metadata": {},
   "outputs": [
    {
     "name": "stdout",
     "output_type": "stream",
     "text": [
      "4321\n"
     ]
    }
   ],
   "source": [
    "#7\n",
    "def reverse_number(n, rev=0):\n",
    "    if n == 0:\n",
    "        return rev\n",
    "    return reverse_number(n // 10, rev * 10 + n % 10)\n",
    "print(reverse_number(1234))"
   ]
  }
 ],
 "metadata": {
  "kernelspec": {
   "display_name": "Python 3 (ipykernel)",
   "language": "python",
   "name": "python3"
  },
  "language_info": {
   "codemirror_mode": {
    "name": "ipython",
    "version": 3
   },
   "file_extension": ".py",
   "mimetype": "text/x-python",
   "name": "python",
   "nbconvert_exporter": "python",
   "pygments_lexer": "ipython3",
   "version": "3.12.7"
  }
 },
 "nbformat": 4,
 "nbformat_minor": 5
}
