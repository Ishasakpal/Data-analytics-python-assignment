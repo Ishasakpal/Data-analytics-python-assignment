{
 "cells": [
  {
   "cell_type": "code",
   "execution_count": 10,
   "id": "28a1a24d-1a16-4b7f-a3d4-3ab3b993bb18",
   "metadata": {},
   "outputs": [
    {
     "name": "stdout",
     "output_type": "stream",
     "text": [
      "Unique list: [1, 2, 3, 4, 5]\n"
     ]
    }
   ],
   "source": [
    "#1.\n",
    "nums = [1,2,3,2,4,1,5]\n",
    "unique=list(set(nums))\n",
    "print(\"Unique list:\",unique)"
   ]
  },
  {
   "cell_type": "code",
   "execution_count": 21,
   "id": "677bbf9b-bb6c-43eb-981d-4b7c194ce71b",
   "metadata": {},
   "outputs": [
    {
     "name": "stdout",
     "output_type": "stream",
     "text": [
      "Second largest: 30\n"
     ]
    }
   ],
   "source": [
    "#2.\n",
    "numbers = [10, 25, 30, 15, 40]\n",
    "first = second = numbers[0]\n",
    "for n in numbers:\n",
    "    if n > first:\n",
    "        second = first\n",
    "        first = n\n",
    "    elif n > second and n != first:\n",
    "        second = n\n",
    "print(\"Second largest:\", second)"
   ]
  },
  {
   "cell_type": "code",
   "execution_count": 5,
   "id": "9fa2aebf-f328-4e55-b147-0e55207d1395",
   "metadata": {},
   "outputs": [
    {
     "name": "stdin",
     "output_type": "stream",
     "text": [
      "Enter a string:  AEIOU\n"
     ]
    },
    {
     "name": "stdout",
     "output_type": "stream",
     "text": [
      "Consonants: 0\n"
     ]
    }
   ],
   "source": [
    "#3.\n",
    "s = input(\"Enter a string: \")\n",
    "vowels = \"aeiouAEIOU\"\n",
    "count = 0\n",
    "for ch in s:\n",
    "    if ch not in vowels:\n",
    "        count += 1\n",
    "print(\"Consonants:\", count)"
   ]
  },
  {
   "cell_type": "code",
   "execution_count": 15,
   "id": "6e4b9b0a-fb1e-451e-8d83-2e27cb606bc5",
   "metadata": {},
   "outputs": [
    {
     "name": "stdout",
     "output_type": "stream",
     "text": [
      "4\n",
      "8\n",
      "6\n",
      "55\n",
      "10\n",
      "15\n"
     ]
    }
   ],
   "source": [
    "#4.\n",
    "numbers = [-3, 4, -6, 8, 6, -2, -1, 55, 10, -75, 15]\n",
    "for n in numbers:\n",
    "    if n > 0:\n",
    "        print(n)"
   ]
  },
  {
   "cell_type": "code",
   "execution_count": 9,
   "id": "90c2c878-0a54-4b8c-aeb9-353f1167986c",
   "metadata": {},
   "outputs": [
    {
     "name": "stdin",
     "output_type": "stream",
     "text": [
      "Enter a fruit or vegetable:  potato\n"
     ]
    },
    {
     "name": "stdout",
     "output_type": "stream",
     "text": [
      "It is a vegetable\n"
     ]
    }
   ],
   "source": [
    "#5.\n",
    "def check_item():\n",
    "    fruits = [\"apple\", \"banana\", \"mango\", \"orange\"]\n",
    "    vegetables = [\"carrot\", \"potato\", \"tomato\", \"onion\"]\n",
    "    item = input(\"Enter a fruit or vegetable: \")\n",
    "    if item in fruits:\n",
    "        return \"It is a fruit\"\n",
    "    elif item in vegetables:\n",
    "        return \"It is a vegetable\"\n",
    "    else:\n",
    "        return \"Not in the list\"\n",
    "print(check_item())"
   ]
  },
  {
   "cell_type": "code",
   "execution_count": 14,
   "id": "4a03d7ef-5b91-4800-8028-0d51495aa74d",
   "metadata": {},
   "outputs": [
    {
     "name": "stdout",
     "output_type": "stream",
     "text": [
      "6\n",
      "12\n",
      "18\n",
      "30\n"
     ]
    }
   ],
   "source": [
    "#6.\n",
    "numbers= [3, 6, 9, 12, 18, 20, 25, 30]\n",
    "for n in nums:\n",
    "    if n % 3 == 0 and n % 6 == 0:\n",
    "        print(n)"
   ]
  }
 ],
 "metadata": {
  "kernelspec": {
   "display_name": "Python 3 (ipykernel)",
   "language": "python",
   "name": "python3"
  },
  "language_info": {
   "codemirror_mode": {
    "name": "ipython",
    "version": 3
   },
   "file_extension": ".py",
   "mimetype": "text/x-python",
   "name": "python",
   "nbconvert_exporter": "python",
   "pygments_lexer": "ipython3",
   "version": "3.12.7"
  }
 },
 "nbformat": 4,
 "nbformat_minor": 5
}
