{
 "cells": [
  {
   "cell_type": "code",
   "execution_count": 28,
   "id": "b4df6ed4-6534-4a8a-a3e1-7f3f55eda33b",
   "metadata": {},
   "outputs": [
    {
     "name": "stdin",
     "output_type": "stream",
     "text": [
      "Enter a number:  23\n"
     ]
    },
    {
     "name": "stdout",
     "output_type": "stream",
     "text": [
      "Difference is: 1\n"
     ]
    }
   ],
   "source": [
    "#1.\n",
    "a = input(\"Enter a number: \")\n",
    "sum = 0\n",
    "product = 1\n",
    "for d in a:\n",
    "    d = int(d)\n",
    "    sum += d       \n",
    "    product *= d   \n",
    "print(\"Difference is:\", product - sum)"
   ]
  },
  {
   "cell_type": "code",
   "execution_count": 4,
   "id": "e1c39583-b920-4713-ae29-dccee37b6eab",
   "metadata": {},
   "outputs": [
    {
     "name": "stdin",
     "output_type": "stream",
     "text": [
      "Enter a number:  20\n"
     ]
    },
    {
     "name": "stdout",
     "output_type": "stream",
     "text": [
      "Duck Number\n"
     ]
    }
   ],
   "source": [
    "#2. \n",
    "n = input(\"Enter a number: \")\n",
    "if '0' in n[1]:\n",
    "    print(\"Duck Number\")\n",
    "else:\n",
    "    print(\"Not Duck Number\")"
   ]
  },
  {
   "cell_type": "code",
   "execution_count": 37,
   "id": "ca885014-5a46-4402-9d16-2f11441ecba2",
   "metadata": {},
   "outputs": [
    {
     "name": "stdin",
     "output_type": "stream",
     "text": [
      "Enter a number: 5\n"
     ]
    },
    {
     "ename": "NameError",
     "evalue": "name 'n' is not defined",
     "output_type": "error",
     "traceback": [
      "\u001b[1;31m---------------------------------------------------------------------------\u001b[0m",
      "\u001b[1;31mNameError\u001b[0m                                 Traceback (most recent call last)",
      "Cell \u001b[1;32mIn[37], line 3\u001b[0m\n\u001b[0;32m      1\u001b[0m \u001b[38;5;66;03m#3.\u001b[39;00m\n\u001b[0;32m      2\u001b[0m num\u001b[38;5;241m=\u001b[39m\u001b[38;5;28mint\u001b[39m(\u001b[38;5;28minput\u001b[39m(\u001b[38;5;124m\"\u001b[39m\u001b[38;5;124mEnter a number:\u001b[39m\u001b[38;5;124m\"\u001b[39m))\n\u001b[1;32m----> 3\u001b[0m square\u001b[38;5;241m=\u001b[39mn\u001b[38;5;241m*\u001b[39mn\n\u001b[0;32m      4\u001b[0m \u001b[38;5;28mprint\u001b[39m(\u001b[38;5;124m\"\u001b[39m\u001b[38;5;124mAutomorphic number\u001b[39m\u001b[38;5;124m\"\u001b[39m)\n\u001b[0;32m      5\u001b[0m \u001b[38;5;28mprint\u001b[39m(\u001b[38;5;124m\"\u001b[39m\u001b[38;5;124mNot automorphic number\u001b[39m\u001b[38;5;124m\"\u001b[39m)\n",
      "\u001b[1;31mNameError\u001b[0m: name 'n' is not defined"
     ]
    }
   ],
   "source": [
    "#3.\n",
    "num=int(input(\"Enter a number:\"))\n",
    "square=n*n\n",
    "print(\"Automorphic number\")\n",
    "print(\"Not automorphic number\")\n",
    "break"
   ]
  },
  {
   "cell_type": "code",
   "execution_count": null,
   "id": "a28082c5-6fee-41a9-9958-50ed734b6d87",
   "metadata": {},
   "outputs": [],
   "source": [
    "#4.\n"
   ]
  },
  {
   "cell_type": "code",
   "execution_count": null,
   "id": "331b06cd-ae2e-4575-b73f-87091c1eceb7",
   "metadata": {},
   "outputs": [],
   "source": [
    "#5.\n"
   ]
  }
 ],
 "metadata": {
  "kernelspec": {
   "display_name": "Python 3 (ipykernel)",
   "language": "python",
   "name": "python3"
  },
  "language_info": {
   "codemirror_mode": {
    "name": "ipython",
    "version": 3
   },
   "file_extension": ".py",
   "mimetype": "text/x-python",
   "name": "python",
   "nbconvert_exporter": "python",
   "pygments_lexer": "ipython3",
   "version": "3.12.7"
  }
 },
 "nbformat": 4,
 "nbformat_minor": 5
}
