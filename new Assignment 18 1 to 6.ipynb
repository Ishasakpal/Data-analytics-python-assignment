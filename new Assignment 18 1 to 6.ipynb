{
 "cells": [
  {
   "cell_type": "code",
   "execution_count": 5,
   "id": "95f0cd27-ba80-4d86-999d-26b1926809cd",
   "metadata": {},
   "outputs": [
    {
     "name": "stdout",
     "output_type": "stream",
     "text": [
      "3\n"
     ]
    }
   ],
   "source": [
    "#1\n",
    "def count_even(n):\n",
    "    if n == 0:\n",
    "        return 0\n",
    "    else:\n",
    "        return (n % 10 % 2 == 0) + count_even(n // 10)\n",
    "print(count_even(123456)) "
   ]
  },
  {
   "cell_type": "code",
   "execution_count": 31,
   "id": "ce33f9a4-fe3e-4159-b80a-205a8cab810e",
   "metadata": {},
   "outputs": [
    {
     "name": "stdout",
     "output_type": "stream",
     "text": [
      "1535\n"
     ]
    }
   ],
   "source": [
    "#2\n",
    "def replace_0_5(n):\n",
    "    if n == 0:\n",
    "        num = 0\n",
    "    else:\n",
    "        digit = n % 10\n",
    "        if digit == 0:\n",
    "            digit = 5\n",
    "        num = replace_0_5(n // 10) * 10 + digit\n",
    "    return num\n",
    "print(replace_0_5(1030)) "
   ]
  },
  {
   "cell_type": "code",
   "execution_count": 35,
   "id": "fa359870-dd4c-4f58-bcd3-f2e0dee2aa2b",
   "metadata": {},
   "outputs": [
    {
     "name": "stdout",
     "output_type": "stream",
     "text": [
      "3\n"
     ]
    }
   ],
   "source": [
    "#3\n",
    "def count_zero(n):\n",
    "    if n == 0:\n",
    "        return 0\n",
    "    else:\n",
    "        c = 0\n",
    "        if n % 10 == 0:\n",
    "            c = 1\n",
    "        return c + count_zero(n // 10)\n",
    "print(count_zero(102030))  "
   ]
  },
  {
   "cell_type": "code",
   "execution_count": 52,
   "id": "600b3147-4385-415a-a594-fb1c0456ef8d",
   "metadata": {},
   "outputs": [
    {
     "name": "stdout",
     "output_type": "stream",
     "text": [
      "9\n"
     ]
    }
   ],
   "source": [
    "#4\n",
    "def sum_alt(n, pos=1):\n",
    "    if n == 0:\n",
    "        return 0\n",
    "    else:\n",
    "        return (n % 10) * (pos % 2 == 0) + sum_alt(n // 10, pos + 1)\n",
    "print(sum_alt(123456))"
   ]
  },
  {
   "cell_type": "code",
   "execution_count": 53,
   "id": "dcaa7370-8634-4c0d-8222-6a960ac9217f",
   "metadata": {},
   "outputs": [
    {
     "name": "stdout",
     "output_type": "stream",
     "text": [
      "10\n"
     ]
    }
   ],
   "source": [
    "#5\n",
    "def sum_sq_alt(n, position=1):\n",
    "    if n == 0:\n",
    "        return 0\n",
    "    else:\n",
    "        return (n % 10)**2 * (position % 2 == 0) + sum_sq_alt(n // 10, position + 1)\n",
    "print(sum_sq_alt(1234))"
   ]
  },
  {
   "cell_type": "code",
   "execution_count": 66,
   "id": "d4b91385-d209-4550-9905-126e95a07fdb",
   "metadata": {},
   "outputs": [
    {
     "name": "stdout",
     "output_type": "stream",
     "text": [
      "0\n"
     ]
    }
   ],
   "source": [
    "#6.\n",
    "def count_gt5(n):\n",
    "    if n == 0:\n",
    "        return 0\n",
    "    else:\n",
    "        return (n % 10 > 5) + count_gt5(n // 10)\n",
    "print(count_gt5(12345))"
   ]
  }
 ],
 "metadata": {
  "kernelspec": {
   "display_name": "Python 3 (ipykernel)",
   "language": "python",
   "name": "python3"
  },
  "language_info": {
   "codemirror_mode": {
    "name": "ipython",
    "version": 3
   },
   "file_extension": ".py",
   "mimetype": "text/x-python",
   "name": "python",
   "nbconvert_exporter": "python",
   "pygments_lexer": "ipython3",
   "version": "3.12.7"
  }
 },
 "nbformat": 4,
 "nbformat_minor": 5
}
