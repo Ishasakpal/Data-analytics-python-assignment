{
 "cells": [
  {
   "cell_type": "code",
   "execution_count": 2,
   "id": "f77ed73d-0d9b-4a0a-a2f0-38a2e917db50",
   "metadata": {},
   "outputs": [
    {
     "name": "stdout",
     "output_type": "stream",
     "text": [
      "Maximum number is: 8\n"
     ]
    }
   ],
   "source": [
    "#1\n",
    "nums = [2, 4, 1, 6, 8, 2]\n",
    "max_val = nums[0]\n",
    "for n in nums:\n",
    "    if n > max_val:\n",
    "        max_val = n\n",
    "print(\"Maximum number is:\", max_val)"
   ]
  },
  {
   "cell_type": "code",
   "execution_count": 24,
   "id": "5b5fffbd-1e06-4640-9f6a-29e38fc94218",
   "metadata": {},
   "outputs": [
    {
     "name": "stdout",
     "output_type": "stream",
     "text": [
      "Number of strings contain 'a': 5\n"
     ]
    }
   ],
   "source": [
    "#2\n",
    "words = [\"apple\", \"banana\", \"strawberry\", \"date\", \"fig\", \"grape\"]\n",
    "count = 0\n",
    "for word in words:\n",
    "    if 'a' in word:\n",
    "        count += 1\n",
    "print(\"Number of strings contain 'a':\", count)"
   ]
  },
  {
   "cell_type": "code",
   "execution_count": 25,
   "id": "58248a63-fb53-4fed-b652-1f105018b13f",
   "metadata": {},
   "outputs": [
    {
     "name": "stdout",
     "output_type": "stream",
     "text": [
      "2 vowels\n",
      "3 vowels\n",
      "2 vowels\n",
      "2 vowels\n",
      "2 vowels\n"
     ]
    }
   ],
   "source": [
    "#5\n",
    "strings = [\"apple\", \"banana\", \"grapes\", \"mango\", \"peach\"]\n",
    "for s in strings:\n",
    "    count = 0\n",
    "    for ch in s:\n",
    "        if ch in \"aeiouAEIOU\":\n",
    "            count += 1\n",
    "    print(count, \"vowels\")"
   ]
  },
  {
   "cell_type": "code",
   "execution_count": 10,
   "id": "c2f432b9-35e2-4fe9-84a0-56d9ca3ffac6",
   "metadata": {},
   "outputs": [
    {
     "name": "stdout",
     "output_type": "stream",
     "text": [
      "2\n"
     ]
    }
   ],
   "source": [
    "#6\n",
    "nums = [7, 3, 5, 2, 9]\n",
    "smallest = min(nums)\n",
    "print(smallest)"
   ]
  },
  {
   "cell_type": "code",
   "execution_count": 12,
   "id": "d2325b07-4b92-498c-ad83-e4e2d8ea9961",
   "metadata": {},
   "outputs": [
    {
     "name": "stdout",
     "output_type": "stream",
     "text": [
      "6.8\n"
     ]
    }
   ],
   "source": [
    "#7\n",
    "nums = [2, 4, 8, 6, 14]\n",
    "total = 0\n",
    "count = 0\n",
    "for n in nums:\n",
    "    if n % 2 == 0:\n",
    "        total += n\n",
    "        count += 1\n",
    "if count > 0:\n",
    "    print(total / count)"
   ]
  },
  {
   "cell_type": "code",
   "execution_count": 14,
   "id": "f09ea313-7222-46a3-9970-d8057576edaf",
   "metadata": {},
   "outputs": [
    {
     "name": "stdout",
     "output_type": "stream",
     "text": [
      "8\n",
      "-6\n"
     ]
    }
   ],
   "source": [
    "#8\n",
    "nums = [2, 1, 4, 5]\n",
    "prod_even = 1\n",
    "red_odd = 0\n",
    "for n in nums:\n",
    "    if n % 2 == 0:\n",
    "        prod_even *= n\n",
    "    else:\n",
    "        red_odd -= n\n",
    "print(prod_even)\n",
    "print(red_odd)"
   ]
  },
  {
   "cell_type": "code",
   "execution_count": 26,
   "id": "673ada45-11fc-4f31-81b5-e32624d7accf",
   "metadata": {},
   "outputs": [
    {
     "name": "stdout",
     "output_type": "stream",
     "text": [
      "[1, 2, 3, 4, 5, 6]\n"
     ]
    }
   ],
   "source": [
    "#9\n",
    "list1 = [1, 2, 3]\n",
    "list2 = [4, 5, 6]\n",
    "merge = list(set(list1 + list2))\n",
    "print(merge)"
   ]
  },
  {
   "cell_type": "code",
   "execution_count": 23,
   "id": "6ea5f450-7030-4e54-b877-2ae4827c98ad",
   "metadata": {},
   "outputs": [
    {
     "name": "stdout",
     "output_type": "stream",
     "text": [
      "16\n"
     ]
    }
   ],
   "source": [
    "#10\n",
    "nums = [15, 3, 19, 7, 5]\n",
    "largest = max(nums)\n",
    "smallest = min(nums)\n",
    "diff = largest - smallest\n",
    "print(diff)"
   ]
  }
 ],
 "metadata": {
  "kernelspec": {
   "display_name": "Python 3 (ipykernel)",
   "language": "python",
   "name": "python3"
  },
  "language_info": {
   "codemirror_mode": {
    "name": "ipython",
    "version": 3
   },
   "file_extension": ".py",
   "mimetype": "text/x-python",
   "name": "python",
   "nbconvert_exporter": "python",
   "pygments_lexer": "ipython3",
   "version": "3.12.7"
  }
 },
 "nbformat": 4,
 "nbformat_minor": 5
}
