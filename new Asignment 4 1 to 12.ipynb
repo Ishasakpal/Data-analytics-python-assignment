{
 "cells": [
  {
   "cell_type": "code",
   "execution_count": null,
   "id": "af2e70b2-5e34-4697-8500-82fd8de9328b",
   "metadata": {},
   "outputs": [],
   "source": [
    "#1.Write a program to check whether the first and last digit of a number are equal (without converting to string)."
   ]
  },
  {
   "cell_type": "code",
   "execution_count": 1,
   "id": "f6a5a80e-7e5c-4340-ad7b-a6b4507504e4",
   "metadata": {},
   "outputs": [
    {
     "name": "stdin",
     "output_type": "stream",
     "text": [
      "Enter temperature in °C:  120\n"
     ]
    },
    {
     "name": "stdout",
     "output_type": "stream",
     "text": [
      "Gas\n"
     ]
    }
   ],
   "source": [
    "#.2. Write a program to display “Solid”, “Liquid”, or “Gas” based on the temperature of water in °C.\n",
    "temp = int(input(\"Enter temperature in °C: \"))\n",
    "if temp <= 0:\n",
    "    print(\"Solid\")\n",
    "elif temp < 100:\n",
    "    print(\"Liquid\")\n",
    "else:\n",
    "    print(\"Gas\")"
   ]
  },
  {
   "cell_type": "code",
   "execution_count": 2,
   "id": "cb4d5431-d571-452a-8da1-d20c4fc9176f",
   "metadata": {},
   "outputs": [
    {
     "name": "stdin",
     "output_type": "stream",
     "text": [
      "Enter first number:  2\n",
      "Enter second number:  3\n"
     ]
    },
    {
     "name": "stdout",
     "output_type": "stream",
     "text": [
      "One of each\n"
     ]
    }
   ],
   "source": [
    "#3.Write a program to check whether both numbers are odd, both are even, or one of each.\n",
    "a = int(input(\"Enter first number: \"))\n",
    "b = int(input(\"Enter second number: \"))\n",
    "if a % 2 == 0 and b % 2 == 0:\n",
    "    print(\"Both numbers are odd\")\n",
    "elif a % 2 != 0 and b % 2 != 0:\n",
    "    print(\"Both are even\")\n",
    "else:\n",
    "    print(\"One of each\")"
   ]
  },
  {
   "cell_type": "code",
   "execution_count": 3,
   "id": "adc7a688-85b2-471d-939e-f949bfeae879",
   "metadata": {},
   "outputs": [
    {
     "name": "stdin",
     "output_type": "stream",
     "text": [
      "Enter a number:  20\n"
     ]
    },
    {
     "name": "stdout",
     "output_type": "stream",
     "text": [
      "The number is closer to 20\n"
     ]
    }
   ],
   "source": [
    "#4.Write a program to check whether a number is closer to 10 or 20.\n",
    "num = int(input(\"Enter a number: \"))\n",
    "if (num - 10) < (20 - num):\n",
    "    print(\"The number is closer to 10\")\n",
    "elif (20 - num) < (num - 10):\n",
    "    print(\"The number is closer to 20\")\n",
    "else:\n",
    "    print(\"The number is close to 10 and 20\")"
   ]
  },
  {
   "cell_type": "code",
   "execution_count": 4,
   "id": "604752cd-8a77-4553-969c-50a4954fe7ac",
   "metadata": {},
   "outputs": [
    {
     "name": "stdin",
     "output_type": "stream",
     "text": [
      "Enter current balance:  10000\n",
      "Enter amount to withdraw:  5000\n"
     ]
    },
    {
     "name": "stdout",
     "output_type": "stream",
     "text": [
      "Withdraw amount\n",
      "Current balance: 5000\n"
     ]
    }
   ],
   "source": [
    "#5.Write a program to check whether a person can withdraw an amount based on current balance.\n",
    "balance = int(input(\"Enter current balance: \"))\n",
    "amount = int(input(\"Enter amount to withdraw: \"))\n",
    "if amount <= balance:\n",
    "    print(\"Withdraw amount\")\n",
    "    print(\"Current balance:\",balance-amount)\n",
    "else:\n",
    "    print(\"Withdraw not possible\")"
   ]
  },
  {
   "cell_type": "code",
   "execution_count": 5,
   "id": "cb58cef3-849a-472c-b9c7-c76f7cedd60c",
   "metadata": {},
   "outputs": [
    {
     "name": "stdin",
     "output_type": "stream",
     "text": [
      "Enter a number:  10\n"
     ]
    },
    {
     "name": "stdout",
     "output_type": "stream",
     "text": [
      "Number ends with digit 0 or 5\n"
     ]
    }
   ],
   "source": [
    "#6.Write a program to check whether a given number ends with digit 0 or 5.\n",
    "num = int(input(\"Enter a number: \"))\n",
    "if num % 10 == 0 or num % 10 == 5:\n",
    "    print(\"Number ends with digit 0 or 5\")"
   ]
  },
  {
   "cell_type": "code",
   "execution_count": 7,
   "id": "c266eed8-052f-4e88-a85c-43233ba2df67",
   "metadata": {},
   "outputs": [
    {
     "name": "stdin",
     "output_type": "stream",
     "text": [
      "Enter height in cm:  150\n",
      "Enter weight in kg:  100\n"
     ]
    },
    {
     "name": "stdout",
     "output_type": "stream",
     "text": [
      "Height is above 140 cm and weight is below 120 kg\n"
     ]
    }
   ],
   "source": [
    "#7.Write a program to check whether height is above 140 cm and weight is below 120 kg.\n",
    "height = int(input(\"Enter height in cm: \"))\n",
    "weight = int(input(\"Enter weight in kg: \"))\n",
    "if height > 140 and weight < 120:\n",
    "    print(\"Height is above 140 cm and weight is below 120 kg\")"
   ]
  },
  {
   "cell_type": "code",
   "execution_count": 11,
   "id": "c07c2918-2cb0-484c-9c21-341bbab0a214",
   "metadata": {},
   "outputs": [
    {
     "name": "stdin",
     "output_type": "stream",
     "text": [
      "Enter first side:  5\n",
      "Enter second side:  4\n",
      "Enter third side:  3\n"
     ]
    },
    {
     "name": "stdout",
     "output_type": "stream",
     "text": [
      "Can form triangle\n"
     ]
    }
   ],
   "source": [
    "#8.Given three lengths, print “Can form triangle” if each side is less than the sum of the other two; else “Cannot”.\n",
    "a = float(input(\"Enter first side: \"))\n",
    "b = float(input(\"Enter second side: \"))\n",
    "c = float(input(\"Enter third side: \"))\n",
    "if a < b + c and b < a + c and c < a + b:\n",
    "    print(\"Can form triangle\")\n",
    "else:\n",
    "    print(\"Cannot\")"
   ]
  },
  {
   "cell_type": "code",
   "execution_count": 15,
   "id": "dd4e9228-63b5-47af-aaa2-2ec4f3a05719",
   "metadata": {},
   "outputs": [
    {
     "name": "stdin",
     "output_type": "stream",
     "text": [
      "Enter first temperature:  25\n",
      "Enter second temperature:  40\n"
     ]
    },
    {
     "name": "stdout",
     "output_type": "stream",
     "text": [
      "Second temperature is higher by 15\n"
     ]
    }
   ],
   "source": [
    "#9.Write a program that compares two temperature readings and prints which one is higher, along with the difference.\n",
    "temp1 = int(input(\"Enter first temperature: \"))\n",
    "temp2 = int(input(\"Enter second temperature: \"))\n",
    "if t1 > t2:\n",
    "    print(\"First temperature is higher by\")\n",
    "else:\n",
    "    print(\"Second temperature is \n"
   ]
  },
  {
   "cell_type": "code",
   "execution_count": 4,
   "id": "9ff9030a-cbff-43d0-a2d9-a5b3b4205e96",
   "metadata": {},
   "outputs": [
    {
     "name": "stdin",
     "output_type": "stream",
     "text": [
      "Enter first number:  16\n",
      "Enter second number:  24\n"
     ]
    },
    {
     "name": "stdout",
     "output_type": "stream",
     "text": [
      "Two given numbers are both multiples of 4\n"
     ]
    }
   ],
   "source": [
    "#10.Write a program to check whether two given numbers are both multiples of 4.\n",
    "a = int(input(\"Enter first number: \"))\n",
    "b = int(input(\"Enter second number: \"))\n",
    "if a % 4 == 0 and b % 4 == 0:\n",
    "    print(\"Two given numbers are both multiples of 4\")"
   ]
  },
  {
   "cell_type": "code",
   "execution_count": 33,
   "id": "5d02661d-7e8a-48a2-bcbf-7e6e1fb54086",
   "metadata": {},
   "outputs": [
    {
     "name": "stdin",
     "output_type": "stream",
     "text": [
      "Enter first number:  25\n",
      "Enter second number:  125\n"
     ]
    },
    {
     "name": "stdout",
     "output_type": "stream",
     "text": [
      "Two given numbers are both from the set\n"
     ]
    }
   ],
   "source": [
    "#11..Write a program to check whether two given numbers are both from the set {1, 5, 25, 125, 625, 3125}.\n",
    "a = int(input(\"Enter first number: \"))\n",
    "b = int(input(\"Enter second number: \"))\n",
    "sets= [1, 5, 25, 125, 625, 3125]\n",
    "if a in sets and b in sets:\n",
    "    print(\"Two given numbers are both from the set\")"
   ]
  },
  {
   "cell_type": "code",
   "execution_count": null,
   "id": "48233870-e44d-41f3-b601-791da9a00378",
   "metadata": {},
   "outputs": [],
   "source": [
    "#12.Write a program to check whether the last digit of a three-digit number equals the sum of its first two digits."
   ]
  }
 ],
 "metadata": {
  "kernelspec": {
   "display_name": "Python 3 (ipykernel)",
   "language": "python",
   "name": "python3"
  },
  "language_info": {
   "codemirror_mode": {
    "name": "ipython",
    "version": 3
   },
   "file_extension": ".py",
   "mimetype": "text/x-python",
   "name": "python",
   "nbconvert_exporter": "python",
   "pygments_lexer": "ipython3",
   "version": "3.12.7"
  }
 },
 "nbformat": 4,
 "nbformat_minor": 5
}
