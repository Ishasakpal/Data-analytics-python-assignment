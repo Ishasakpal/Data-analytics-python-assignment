{
 "cells": [
  {
   "cell_type": "code",
   "execution_count": 5,
   "id": "b61123ba-7ef7-4708-a571-3e30cf2dc5bd",
   "metadata": {},
   "outputs": [
    {
     "data": {
      "text/plain": [
       "15"
      ]
     },
     "execution_count": 5,
     "metadata": {},
     "output_type": "execute_result"
    }
   ],
   "source": [
    "#1 Write different functions for multiplication, substraction, division \n",
    "#with parameter\n",
    "def multiply(a,b):\n",
    "    return a*b\n",
    "multiply(3,5)"
   ]
  },
  {
   "cell_type": "code",
   "execution_count": 7,
   "id": "0b465011-b591-44c8-bbb3-755dfb97b779",
   "metadata": {},
   "outputs": [
    {
     "data": {
      "text/plain": [
       "-2"
      ]
     },
     "execution_count": 7,
     "metadata": {},
     "output_type": "execute_result"
    }
   ],
   "source": [
    "def subtraction(a,b):\n",
    "    return a-b\n",
    "subtraction(3,5)"
   ]
  },
  {
   "cell_type": "code",
   "execution_count": 9,
   "id": "0afb361b-70b1-49bf-ba89-86a9a35dc977",
   "metadata": {},
   "outputs": [
    {
     "data": {
      "text/plain": [
       "0.6"
      ]
     },
     "execution_count": 9,
     "metadata": {},
     "output_type": "execute_result"
    }
   ],
   "source": [
    "def division(a,b):\n",
    "    return a/b\n",
    "division(3,5)"
   ]
  },
  {
   "cell_type": "code",
   "execution_count": 15,
   "id": "5f331d56-afdc-4c8f-a494-8426755dfa8f",
   "metadata": {},
   "outputs": [
    {
     "name": "stdin",
     "output_type": "stream",
     "text": [
      "Enter first number: 3\n",
      "Enter second number: 3\n"
     ]
    },
    {
     "data": {
      "text/plain": [
       "9"
      ]
     },
     "execution_count": 15,
     "metadata": {},
     "output_type": "execute_result"
    }
   ],
   "source": [
    "#without parameter\n",
    "def multiply():\n",
    "    a=int(input(\"Enter first number:\"))\n",
    "    b=int (input(\"Enter second number:\"))\n",
    "    return a*b\n",
    "multiply()"
   ]
  },
  {
   "cell_type": "code",
   "execution_count": 16,
   "id": "d65dffc6-47e3-4fe6-a908-9aaa64bc4b7f",
   "metadata": {},
   "outputs": [
    {
     "name": "stdin",
     "output_type": "stream",
     "text": [
      "Enter first number: 2\n",
      "Enter second number: 1\n"
     ]
    },
    {
     "data": {
      "text/plain": [
       "1"
      ]
     },
     "execution_count": 16,
     "metadata": {},
     "output_type": "execute_result"
    }
   ],
   "source": [
    "def multiply():\n",
    "    a=int(input(\"Enter first number:\"))\n",
    "    b=int(input(\"Enter second number:\"))\n",
    "    return a-b\n",
    "multiply()"
   ]
  },
  {
   "cell_type": "code",
   "execution_count": 17,
   "id": "a5d1739c-2951-47d4-a179-9cbd3e779b89",
   "metadata": {},
   "outputs": [
    {
     "name": "stdin",
     "output_type": "stream",
     "text": [
      "Enter a first number: 3\n",
      "Enter second number: 6\n"
     ]
    },
    {
     "data": {
      "text/plain": [
       "0.5"
      ]
     },
     "execution_count": 17,
     "metadata": {},
     "output_type": "execute_result"
    }
   ],
   "source": [
    "def multiply():\n",
    "    a=int(input(\"Enter a first number:\"))\n",
    "    b=int(input(\"Enter second number:\"))\n",
    "    return a/b\n",
    "multiply()"
   ]
  },
  {
   "cell_type": "code",
   "execution_count": 22,
   "id": "9a0099aa-cc2c-4184-b6ee-e21d333b672c",
   "metadata": {},
   "outputs": [
    {
     "name": "stdin",
     "output_type": "stream",
     "text": [
      "Enter a first number: 3\n",
      "Enter a second number: 4\n"
     ]
    },
    {
     "name": "stdout",
     "output_type": "stream",
     "text": [
      "0.75\n",
      "0\n",
      "3\n"
     ]
    }
   ],
   "source": [
    "#2 Write a function which will accept 2 numbers from used and return their division, floor division, modulus \n",
    "#without parameter\n",
    "a=int(input(\"Enter a first number:\"))\n",
    "b=int(input(\"Enter a second number:\"))\n",
    "def div():\n",
    "    return a/b\n",
    "def floor_div():\n",
    "    return a//b\n",
    "def mod():\n",
    "    return a%b\n",
    "\n",
    "\n",
    "print(div())\n",
    "print(floor_div())\n",
    "print(mod())"
   ]
  },
  {
   "cell_type": "code",
   "execution_count": 30,
   "id": "eb59a339-77c6-4e01-8fd6-1f9381b13148",
   "metadata": {},
   "outputs": [
    {
     "name": "stdin",
     "output_type": "stream",
     "text": [
      "Enter a first number: 2\n",
      "Enter a second number: 3\n"
     ]
    },
    {
     "name": "stdout",
     "output_type": "stream",
     "text": [
      "0.6666666666666666\n",
      "0\n",
      "3\n"
     ]
    }
   ],
   "source": [
    "#with parameter\n",
    "a=int(input(\"Enter a first number:\"))\n",
    "b=int(input(\"Enter a second number:\"))\n",
    "def div(a,b):\n",
    "     return a/b\n",
    "def floor_div(a,b):\n",
    "     return a//b\n",
    "def mod(a,b):\n",
    "     return a%b\n",
    "\n",
    "\n",
    "print(div(2,3))\n",
    "print(floor_div(2,4))\n",
    "print(mod(3,5))"
   ]
  },
  {
   "cell_type": "code",
   "execution_count": 47,
   "id": "6d5cb75d-73b2-4dd6-906b-932ee7eada01",
   "metadata": {},
   "outputs": [
    {
     "name": "stdin",
     "output_type": "stream",
     "text": [
      "Enter length: 4\n",
      "Enter width: 3\n"
     ]
    },
    {
     "data": {
      "text/plain": [
       "12"
      ]
     },
     "execution_count": 47,
     "metadata": {},
     "output_type": "execute_result"
    }
   ],
   "source": [
    "#3Write a function to find area of rectangle \n",
    "#without parameter\n",
    "def area_rectangle():\n",
    "    length=int(input(\"Enter length:\"))\n",
    "    width=int(input(\"Enter width:\"))\n",
    "    return length * width\n",
    "area_rectangle()"
   ]
  },
  {
   "cell_type": "code",
   "execution_count": 48,
   "id": "26872bfe-48f9-4356-bfb4-46f4abbc0ed9",
   "metadata": {},
   "outputs": [
    {
     "name": "stdin",
     "output_type": "stream",
     "text": [
      "Enter length: 2\n",
      "Enter width: 3\n"
     ]
    },
    {
     "data": {
      "text/plain": [
       "6"
      ]
     },
     "execution_count": 48,
     "metadata": {},
     "output_type": "execute_result"
    }
   ],
   "source": [
    "#without parameter\n",
    "def area_rectangle(a,b):\n",
    "    length =int(input(\"Enter length:\"))\n",
    "    width=int(input(\"Enter width:\"))\n",
    "    return length*width\n",
    "area_rectangle(2,3)"
   ]
  },
  {
   "cell_type": "code",
   "execution_count": 55,
   "id": "b9418074-5b2a-415d-bde2-53f48258f3fd",
   "metadata": {},
   "outputs": [
    {
     "data": {
      "text/plain": [
       "50.24"
      ]
     },
     "execution_count": 55,
     "metadata": {},
     "output_type": "execute_result"
    }
   ],
   "source": [
    "#4Write a function to find area of circle\n",
    "#with parameter\n",
    "def area_circle(radius):\n",
    "    return 3.14*radius*radius\n",
    "area_circle(4)"
   ]
  },
  {
   "cell_type": "code",
   "execution_count": 105,
   "id": "889ba69f-0911-48cc-8ae9-2c9ff99aff86",
   "metadata": {},
   "outputs": [
    {
     "name": "stdin",
     "output_type": "stream",
     "text": [
      "Enter a radius: 56\n"
     ]
    },
    {
     "data": {
      "text/plain": [
       "9847.04"
      ]
     },
     "execution_count": 105,
     "metadata": {},
     "output_type": "execute_result"
    }
   ],
   "source": [
    "#without parameter\n",
    "r=int(input(\"Enter a radius:\"))\n",
    "def area_circle(r):\n",
    "     return 3.14*r*r\n",
    "area_circle(r)"
   ]
  },
  {
   "cell_type": "code",
   "execution_count": 109,
   "id": "c6bb27cd-5ca6-4bcd-85fc-9eea9c473fae",
   "metadata": {},
   "outputs": [
    {
     "name": "stdin",
     "output_type": "stream",
     "text": [
      "Enter a number:  45\n"
     ]
    },
    {
     "data": {
      "text/plain": [
       "'Odd'"
      ]
     },
     "execution_count": 109,
     "metadata": {},
     "output_type": "execute_result"
    }
   ],
   "source": [
    "#5. Write a function to find even and odd numbers, take number as user input\n",
    "#without parameter\n",
    "def even_odd(): \n",
    "    n = int(input(\"Enter a number: \"))\n",
    "    if n % 2 == 0:\n",
    "        return \"Even\"\n",
    "    else:\n",
    "        return \"Odd\"\n",
    "even_odd()"
   ]
  },
  {
   "cell_type": "code",
   "execution_count": 111,
   "id": "a735b344-492f-41dd-a5d4-494cde39a33f",
   "metadata": {},
   "outputs": [
    {
     "data": {
      "text/plain": [
       "'Even'"
      ]
     },
     "execution_count": 111,
     "metadata": {},
     "output_type": "execute_result"
    }
   ],
   "source": [
    "#with parameter\n",
    "def even_odd(n):  \n",
    "    if n % 2 == 0:\n",
    "        return \"Even\"\n",
    "    else:\n",
    "        return \"Odd\"\n",
    "even_odd(6)"
   ]
  }
 ],
 "metadata": {
  "kernelspec": {
   "display_name": "Python 3 (ipykernel)",
   "language": "python",
   "name": "python3"
  },
  "language_info": {
   "codemirror_mode": {
    "name": "ipython",
    "version": 3
   },
   "file_extension": ".py",
   "mimetype": "text/x-python",
   "name": "python",
   "nbconvert_exporter": "python",
   "pygments_lexer": "ipython3",
   "version": "3.12.7"
  }
 },
 "nbformat": 4,
 "nbformat_minor": 5
}
