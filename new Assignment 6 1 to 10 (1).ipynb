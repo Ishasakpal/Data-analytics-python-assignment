{
 "cells": [
  {
   "cell_type": "code",
   "execution_count": null,
   "id": "872b7d91-eff2-4e1c-b746-49d5bdcf7e61",
   "metadata": {},
   "outputs": [],
   "source": [
    "#1.Find all twin prime pairs between two numbers. Twin primes differ by 2 (e.g., 11 and 13).\n"
   ]
  },
  {
   "cell_type": "code",
   "execution_count": 36,
   "id": "8da05380-9d3d-4ee9-aa36-8dae53b70092",
   "metadata": {},
   "outputs": [
    {
     "name": "stdin",
     "output_type": "stream",
     "text": [
      "Enter start:  5\n",
      "Enter end:  10\n"
     ]
    },
    {
     "name": "stdout",
     "output_type": "stream",
     "text": [
      "5\n",
      "6\n",
      "7\n",
      "8\n",
      "9\n",
      "10\n"
     ]
    }
   ],
   "source": [
    "#2.Input a range and print all numbers that are palindromes.\n",
    "start = int(input(\"Enter start: \"))\n",
    "end = int(input(\"Enter end: \"))\n",
    "for n in range(start, end+1):\n",
    "    if str(s) == str(r):\n",
    "        print(n)"
   ]
  },
  {
   "cell_type": "code",
   "execution_count": 177,
   "id": "dd840313-a695-418b-9394-ecb9be99ca68",
   "metadata": {},
   "outputs": [
    {
     "name": "stdin",
     "output_type": "stream",
     "text": [
      "Enter a number:  18\n"
     ]
    },
    {
     "name": "stdout",
     "output_type": "stream",
     "text": [
      "18 is a Harshad number\n"
     ]
    }
   ],
   "source": [
    "#3.#3.A number is Harshad if it is divisible by the sum of its digits.Example: 18 → 1+8 = 9 → 18 % 9 == 0 → Harshad\n",
    "n = int(input(\"Enter a number: \"))\n",
    "s = sum(int(d) \n",
    "     for d in str(n))\n",
    "if n % s == 0:\n",
    "    print(n, \"is a Harshad number\")\n",
    "else:\n",
    "    print(n, \"is not a Harshad number\")"
   ]
  },
  {
   "cell_type": "code",
   "execution_count": 14,
   "id": "957c5f1c-4446-42c0-b079-2463bbfef113",
   "metadata": {},
   "outputs": [
    {
     "name": "stdin",
     "output_type": "stream",
     "text": [
      "Enter a number:  10\n"
     ]
    },
    {
     "name": "stdout",
     "output_type": "stream",
     "text": [
      "10 is a Triangular number\n"
     ]
    }
   ],
   "source": [
    "#4..A triangular number is of the form n(n+1)/2. Check if the given number fits that pattern.Example: 6, 10, 15 are triangular\n",
    "num = int(input(\"Enter a number: \"))\n",
    "is_triangular = 0\n",
    "for n in range(1, num + 1):\n",
    "    triangular_number = n * (n + 1) // 2\n",
    "    if triangular_number == num:\n",
    "        is_triangular = 1\n",
    "if is_triangular == 1:\n",
    "    print(num, \"is a Triangular number\")\n",
    "else:\n",
    "    print(num, \"is not a Triangular number\")"
   ]
  },
  {
   "cell_type": "code",
   "execution_count": 12,
   "id": "655b5358-ff3c-4750-9ee0-d92953fefb72",
   "metadata": {},
   "outputs": [
    {
     "name": "stdin",
     "output_type": "stream",
     "text": [
      "Enter a number:  135\n"
     ]
    },
    {
     "name": "stdout",
     "output_type": "stream",
     "text": [
      "135 is a Disarium number.\n"
     ]
    }
   ],
   "source": [
    "#5..A Disarium number is one where the sum of its digits raised to the power of their positions is equal to the number.Example: 135 → 1¹ + 3² + 5³ = 135\n",
    "num = int(input(\"Enter a number: \"))\n",
    "a= str(num)\n",
    "total = 0\n",
    "for i in range(len(a)):\n",
    "    digit = int(a[i])\n",
    "    position = i + 1\n",
    "    total += digit ** position\n",
    "if total == num:\n",
    "    print(num, \"is a Disarium number.\")\n",
    "else:\n",
    "    print(num, \"is not a Disarium number.\")"
   ]
  },
  {
   "cell_type": "code",
   "execution_count": 164,
   "id": "5496b2e5-eae8-4123-a71e-29300c97d2f7",
   "metadata": {},
   "outputs": [
    {
     "name": "stdin",
     "output_type": "stream",
     "text": [
      "Enter a number:  9875\n"
     ]
    },
    {
     "name": "stdout",
     "output_type": "stream",
     "text": [
      "Digital Root: 2\n"
     ]
    }
   ],
   "source": [
    "#8.Find the Digital Root of a Number Repeatedly sum digits until a single-digit number is left.Input: 9875 → 9+8+7+5 = 29 → 2+9 = 11 → 1+1 = 2\n",
    "n = int(input(\"Enter a number: \"))\n",
    "for i in range(10): \n",
    "    digit = 0\n",
    "    for d in str(n):\n",
    "        digit += int(d)\n",
    "    n = digit\n",
    "print(\"Digital Root:\", n)"
   ]
  },
  {
   "cell_type": "code",
   "execution_count": 180,
   "id": "1f5b6e3e-1789-4b8b-80e7-161feb814ef3",
   "metadata": {},
   "outputs": [
    {
     "name": "stdin",
     "output_type": "stream",
     "text": [
      "Enter start of range:  104\n",
      "Enter end of range:  123\n"
     ]
    },
    {
     "name": "stdout",
     "output_type": "stream",
     "text": [
      "Count of numbers with no zero digit: 20\n"
     ]
    }
   ],
   "source": [
    "#9.Count All Numbers in a Range That Have No Zero DigitExample: 104 has a zero → Exclude | 123 → Include\n",
    "start = int(input(\"Enter start of range: \"))\n",
    "end = int(input(\"Enter end of range: \"))\n",
    "count = 0\n",
    "for n in range(start, end + 1):      \n",
    "        count += 1\n",
    "print(\"Count of numbers with no zero digit:\", count)"
   ]
  },
  {
   "cell_type": "code",
   "execution_count": 127,
   "id": "edbef13b-35a3-4c3d-8163-eab3712bb6c5",
   "metadata": {},
   "outputs": [
    {
     "name": "stdout",
     "output_type": "stream",
     "text": [
      "81\n"
     ]
    }
   ],
   "source": [
    "#10. Find All 2-Digit Numbers Where Sum of Digits Squared Equals the NumberExample: 81 → 8 + 1 = 9 → 9² = 81\n",
    "for n in range(10, 100):\n",
    "    if 9 * 9 == n:\n",
    "        print(n)"
   ]
  },
  {
   "cell_type": "code",
   "execution_count": null,
   "id": "080018d3-fe01-4c86-a288-5b2fb2a60cea",
   "metadata": {},
   "outputs": [],
   "source": [
    "#6.Write a python program to find Sum of Non-Prime Numbers in a Range."
   ]
  },
  {
   "cell_type": "code",
   "execution_count": 181,
   "id": "e8acfc99-d84a-4a7f-b95f-0fb272ba20b5",
   "metadata": {},
   "outputs": [
    {
     "name": "stdin",
     "output_type": "stream",
     "text": [
      "Enter a number:  1729\n"
     ]
    },
    {
     "name": "stdout",
     "output_type": "stream",
     "text": [
      "1729 is a Magic Number\n"
     ]
    }
   ],
   "source": [
    "#7Check for Magic NumberA number is a magic number if the repeated sum of its digits equals 1.Example: 1729 → 1+7+2+9 = 19 → 1+9 = 10 → 1+0 = 1\n",
    "n = int(input(\"Enter a number: \"))\n",
    "s = n\n",
    "for i in range(10):       \n",
    "    digit = 0\n",
    "    for d in str(s):\n",
    "        digit += int(d)\n",
    "    s = digit\n",
    "if s == 1:\n",
    "    print(n, \"is a Magic Number\")\n",
    "else:\n",
    "    print(n, \"is not a Magic Number\")\n"
   ]
  }
 ],
 "metadata": {
  "kernelspec": {
   "display_name": "Python 3 (ipykernel)",
   "language": "python",
   "name": "python3"
  },
  "language_info": {
   "codemirror_mode": {
    "name": "ipython",
    "version": 3
   },
   "file_extension": ".py",
   "mimetype": "text/x-python",
   "name": "python",
   "nbconvert_exporter": "python",
   "pygments_lexer": "ipython3",
   "version": "3.12.7"
  }
 },
 "nbformat": 4,
 "nbformat_minor": 5
}
