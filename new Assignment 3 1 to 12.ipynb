{
 "cells": [
  {
   "cell_type": "code",
   "execution_count": 47,
   "id": "802915be-2cfc-43da-af65-bb0c5ea248e6",
   "metadata": {},
   "outputs": [
    {
     "name": "stdin",
     "output_type": "stream",
     "text": [
      "Enter a 2-digit number:  86\n"
     ]
    },
    {
     "name": "stdout",
     "output_type": "stream",
     "text": [
      "14\n"
     ]
    }
   ],
   "source": [
    "#1.#1.Ask the user to enter a 2-digit number as a string (e.g., '45'). Convert each character to an integer and print their sum: 4 + 5 = 9\n",
    "num= input(\"Enter a 2-digit number: \")\n",
    "a= int(num[0])\n",
    "b= int(num[1])\n",
    "print(a+b)"
   ]
  },
  {
   "cell_type": "code",
   "execution_count": 8,
   "id": "8841b95d-e128-41b5-9476-2ba0f7b0aafa",
   "metadata": {},
   "outputs": [
    {
     "name": "stdin",
     "output_type": "stream",
     "text": [
      "Enter n: 6\n"
     ]
    },
    {
     "name": "stdout",
     "output_type": "stream",
     "text": [
      "2\n",
      "4\n",
      "6\n",
      "8\n",
      "10\n",
      "12\n"
     ]
    }
   ],
   "source": [
    "#2.Ask for a number n. Print the first n even numbers starting from 2.\n",
    "n=int(input(\"Enter n:\"))\n",
    "for i in range(1,n+1):\n",
    "    print(i*2)"
   ]
  },
  {
   "cell_type": "code",
   "execution_count": 9,
   "id": "9f316e6f-9d7b-4d23-85f9-d07a46b7abf3",
   "metadata": {},
   "outputs": [
    {
     "name": "stdin",
     "output_type": "stream",
     "text": [
      "Enter first number:  5\n",
      "Enter second number:  4\n",
      "Enter third number:  3\n"
     ]
    },
    {
     "name": "stdout",
     "output_type": "stream",
     "text": [
      "Smallest number is: 3.0\n"
     ]
    }
   ],
   "source": [
    "#3.Ask for 3 numbers. Print the smallest (using only if/elif/else).\n",
    "a = float(input(\"Enter first number: \"))\n",
    "b = float(input(\"Enter second number: \"))\n",
    "c = float(input(\"Enter third number: \"))\n",
    "if a <= b and a <= c:\n",
    "    print(\"Smallest number is:\",a)\n",
    "elif b < c:\n",
    "    print(\"Smallest number is:\",b)\n",
    "else:\n",
    "    print(\"Smallest number is:\",c)"
   ]
  },
  {
   "cell_type": "code",
   "execution_count": 10,
   "id": "4dd7a490-f11f-4a2e-8357-8898aa06ec4b",
   "metadata": {},
   "outputs": [
    {
     "name": "stdin",
     "output_type": "stream",
     "text": [
      "Enter length: 4\n",
      "Enter width: 6\n"
     ]
    },
    {
     "name": "stdout",
     "output_type": "stream",
     "text": [
      "Area: 24\n",
      "Perimeter: 20\n"
     ]
    }
   ],
   "source": [
    "#4.Input length and width. Print the area and perimeter.\n",
    "l=int(input(\"Enter length:\"))\n",
    "w=int(input(\"Enter width:\"))\n",
    "print(\"Area:\",l*w)\n",
    "print(\"Perimeter:\",2*(l+w))"
   ]
  },
  {
   "cell_type": "code",
   "execution_count": 15,
   "id": "a1ffce37-a974-42c7-81e0-8b4e329f3893",
   "metadata": {},
   "outputs": [
    {
     "name": "stdin",
     "output_type": "stream",
     "text": [
      "Enter a number:  17\n"
     ]
    },
    {
     "name": "stdout",
     "output_type": "stream",
     "text": [
      "Remainder when divided by 2: 1\n",
      "Remainder when divided by 3: 2\n",
      "Remainder when divided by 4: 1\n",
      "Remainder when divided by 5: 2\n"
     ]
    }
   ],
   "source": [
    "#5.Ask for a number. Print the remainder when divided by 2, 3, 4, and 5.\n",
    "n= int(input(\"Enter a number: \"))\n",
    "print(\"Remainder when divided by 2:\", n % 2)\n",
    "print(\"Remainder when divided by 3:\", n % 3)\n",
    "print(\"Remainder when divided by 4:\", n % 4)\n",
    "print(\"Remainder when divided by 5:\", n % 5)"
   ]
  },
  {
   "cell_type": "code",
   "execution_count": 42,
   "id": "1e14d96d-96e6-4d6a-97c2-9aa3db85cf7c",
   "metadata": {},
   "outputs": [
    {
     "name": "stdin",
     "output_type": "stream",
     "text": [
      "Enter total slices:  5\n",
      "Enter number of friends:  4\n"
     ]
    },
    {
     "name": "stdout",
     "output_type": "stream",
     "text": [
      "Each friend gets: 1\n",
      "total slices: 5\n"
     ]
    }
   ],
   "source": [
    "#6.pizza/Slice DividerInput total slices and number of friends. Calculate:How many slices each gets How many are left  \n",
    "slices = int(input(\"Enter total slices: \"))\n",
    "friends = int(input(\"Enter number of friends: \"))\n",
    "pizza = slices % friends\n",
    "print(\"Each friend gets:\", each)\n",
    "print(\"total slices:\", slices)"
   ]
  },
  {
   "cell_type": "code",
   "execution_count": null,
   "id": "0976bf03-d937-4bbc-b898-bf82741ea913",
   "metadata": {},
   "outputs": [],
   "source": [
    "#6. Ask for 3 digits separately (like 4, 7, 2). Combine them into the number 472."
   ]
  },
  {
   "cell_type": "code",
   "execution_count": 8,
   "id": "e3b77bb9-6647-403d-9be5-3a4af76f5e8b",
   "metadata": {},
   "outputs": [
    {
     "name": "stdin",
     "output_type": "stream",
     "text": [
      "Enter a number: 15\n"
     ]
    },
    {
     "name": "stdout",
     "output_type": "stream",
     "text": [
      "Factors are:\n",
      "1\n",
      "3\n",
      "5\n",
      "15\n"
     ]
    }
   ],
   "source": [
    "#7.Input a number. Print all numbers that divide it exactly (its factors).\n",
    "n = int(input(\"Enter a number:\"))\n",
    "print(\"Factors are:\")\n",
    "for i in range(1, n+ 1):\n",
    "    if n % i == 0:\n",
    "        print(i)"
   ]
  },
  {
   "cell_type": "code",
   "execution_count": null,
   "id": "a1b8cdca-8c1d-4481-b1fb-e74e4af7f0dc",
   "metadata": {},
   "outputs": [],
   "source": [
    "#8.Ask for base and exponent. Calculate power using a loop.4.  Ask for a single digit (0–9). Print the digit in words (e.g., 5 → \"Five\")."
   ]
  },
  {
   "cell_type": "code",
   "execution_count": 16,
   "id": "e6e00228-f836-4595-b321-a4c473ccbd99",
   "metadata": {},
   "outputs": [
    {
     "name": "stdin",
     "output_type": "stream",
     "text": [
      "Enter a units :  1000\n"
     ]
    },
    {
     "name": "stdout",
     "output_type": "stream",
     "text": [
      "Electricity Bill: rs 3600.0\n"
     ]
    }
   ],
   "source": [
    "#9. Electricity Bill Calculator Ask for units used. Calculate & Display bill:First 100 units: ₹1.5/unit Next 100: ₹2.5/unit Above 200: ₹4/unit\n",
    "units = int(input(\"Enter a units : \"))\n",
    "bill = 0\n",
    "if units<= 100:\n",
    "    bill= units * 1.5\n",
    "elif units<= 200:\n",
    "    bill=100 * 1.5 + (units-100) * 2.5\n",
    "else:\n",
    "    bill = 100 * 1.5+100*2.5 + (units-200)*4\n",
    "print(\"Electricity Bill: rs\", bill)"
   ]
  },
  {
   "cell_type": "code",
   "execution_count": 21,
   "id": "204f5aa6-173c-4b87-975c-1e7fb58bebfd",
   "metadata": {},
   "outputs": [
    {
     "name": "stdin",
     "output_type": "stream",
     "text": [
      "Enter a number:  250\n"
     ]
    },
    {
     "name": "stdout",
     "output_type": "stream",
     "text": [
      "Ends with zero\n"
     ]
    }
   ],
   "source": [
    "#10.Ask for a number. If the last digit is 0, print \"Ends with zero\".\n",
    "num = int(input(\"Enter a number: \"))\n",
    "if num % 10 == 0:\n",
    "    print(\"Ends with zero\")\n",
    "else:\n",
    "    print(\"Does not end with zero\")"
   ]
  },
  {
   "cell_type": "code",
   "execution_count": 48,
   "id": "b966b7b1-b689-48ff-966a-b2556580b15c",
   "metadata": {},
   "outputs": [
    {
     "name": "stdin",
     "output_type": "stream",
     "text": [
      "Enter a:  3\n",
      "Enter b:  2\n",
      "Enter c:  1\n",
      "Enter d:  2\n"
     ]
    },
    {
     "name": "stdout",
     "output_type": "stream",
     "text": [
      "Sum of a + b is greater\n"
     ]
    }
   ],
   "source": [
    "#11.Input 4 numbers: a, b, c, d. ",
    "Compare sum of a + b with c + d. Print which sum is greater.\n",
    "a= int(input(\"Enter a: \"))\n",
    "b = int(input(\"Enter b: \"))\n",
    "c = int(input(\"Enter c: \"))\n",
    "d = int(input(\"Enter d: \"))\n",
    "sum1=a+b  \n",
    "sum2=c+d     \n",
    "if sum1>sum2:\n",
    "    print(\"Sum of a + b is greater\")\n",
    "elif sum2>sum1:\n",
    "    print(\"Sum of c + d is greater\")\n",
    "else:\n",
    "    print(\"sum is greater\")"
   ]
  },
  {
   "cell_type": "code",
   "execution_count": 24,
   "id": "10020f79-56c6-4380-ab51-ef900ef38d70",
   "metadata": {},
   "outputs": [
    {
     "name": "stdin",
     "output_type": "stream",
     "text": [
      "Enter a number: 2\n"
     ]
    },
    {
     "name": "stdout",
     "output_type": "stream",
     "text": [
      "Square is even\n"
     ]
    }
   ],
   "source": [
    "#12.Check if Square of a Number is Even or Odd* Input a number. Calculate its square. Say whether it's even or odd\n",
    "num=int(input(\"Enter a number:\"))\n",
    "square=num*num\n",
    "if square%2==0:\n",
    "    print(\"Square is even\")\n",
    "else:\n",
    "    print(\"Square is odd\")"
   ]
  },
  {
   "cell_type": "code",
   "execution_count": null,
   "id": "702cff2f-5ed0-418c-b5f7-0da204e39781",
   "metadata": {},
   "outputs": [],
   "source": []
  }
 ],
 "metadata": {
  "kernelspec": {
   "display_name": "Python 3 (ipykernel)",
   "language": "python",
   "name": "python3"
  },
  "language_info": {
   "codemirror_mode": {
    "name": "ipython",
    "version": 3
   },
   "file_extension": ".py",
   "mimetype": "text/x-python",
   "name": "python",
   "nbconvert_exporter": "python",
   "pygments_lexer": "ipython3",
   "version": "3.12.7"
  }
 },
 "nbformat": 4,
 "nbformat_minor": 5
}
