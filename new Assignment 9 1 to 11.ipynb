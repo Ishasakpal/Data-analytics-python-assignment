{
 "cells": [
  {
   "cell_type": "code",
   "execution_count": 2,
   "id": "528d6752-b095-4ece-bfb1-77676839e831",
   "metadata": {},
   "outputs": [
    {
     "name": "stdin",
     "output_type": "stream",
     "text": [
      "How many numbers?  5\n",
      "Enter number:  10\n",
      "Enter number:  15\n",
      "Enter number:  20\n",
      "Enter number:  18\n",
      "Enter number:  17\n"
     ]
    },
    {
     "name": "stdout",
     "output_type": "stream",
     "text": [
      "Sum: 80\n",
      "Average: 16.0\n"
     ]
    }
   ],
   "source": [
    "#1\n",
    "n= int(input(\"How many numbers? \"))\n",
    "total = 0\n",
    "for i in range(n):\n",
    "    num = int(input(\"Enter number: \"))\n",
    "    total += num\n",
    "print(\"Sum:\", total)\n",
    "print(\"Average:\", total/n)"
   ]
  },
  {
   "cell_type": "code",
   "execution_count": 3,
   "id": "3cb88e01-316a-403d-9b28-60c23cf92afd",
   "metadata": {},
   "outputs": [
    {
     "name": "stdin",
     "output_type": "stream",
     "text": [
      "Enter seconds:  130\n"
     ]
    },
    {
     "name": "stdout",
     "output_type": "stream",
     "text": [
      "Minutes = 2\n",
      "Seconds = 10\n"
     ]
    }
   ],
   "source": [
    "#2\n",
    "sec = int(input(\"Enter seconds: \"))\n",
    "minutes = sec // 60\n",
    "seconds = sec % 60\n",
    "print(\"Minutes =\", minutes)\n",
    "print(\"Seconds =\", seconds)"
   ]
  },
  {
   "cell_type": "code",
   "execution_count": 9,
   "id": "ef194cf7-f36c-465c-a875-c50cc2485882",
   "metadata": {},
   "outputs": [
    {
     "name": "stdin",
     "output_type": "stream",
     "text": [
      "Enter first number:  25\n",
      "Enter second number:  30\n"
     ]
    },
    {
     "name": "stdout",
     "output_type": "stream",
     "text": [
      "second number is less than\n"
     ]
    }
   ],
   "source": [
    "#3\n",
    "a = int(input(\"Enter first number: \"))\n",
    "b = int(input(\"Enter second number: \"))\n",
    "if a > b:\n",
    "    print(\"First number is greater \")\n",
    "elif a < b:\n",
    "    print(\"second number is less than\")\n",
    "else:\n",
    "    print(\"Both numbers are equal\")\n"
   ]
  },
  {
   "cell_type": "code",
   "execution_count": 11,
   "id": "66c48a86-67c6-4d2f-8e35-07b80ebe67d5",
   "metadata": {},
   "outputs": [
    {
     "name": "stdin",
     "output_type": "stream",
     "text": [
      "enter time in hours: 2\n"
     ]
    },
    {
     "name": "stdout",
     "output_type": "stream",
     "text": [
      "Equivalent in second: 7200\n"
     ]
    }
   ],
   "source": [
    "#4\n",
    "hours = int(input(\"enter time in hours:\"))\n",
    "if hours >=0:\n",
    "    s= hours*3600\n",
    "    print(\"Equivalent in second:\",s)"
   ]
  },
  {
   "cell_type": "code",
   "execution_count": null,
   "id": "17aebe07-c7d9-4fde-8079-fd67a55658db",
   "metadata": {},
   "outputs": [],
   "source": [
    "#5"
   ]
  },
  {
   "cell_type": "code",
   "execution_count": 16,
   "id": "80acc4dd-5cb6-40ee-b52f-8f2fc5d0c4fc",
   "metadata": {},
   "outputs": [
    {
     "name": "stdin",
     "output_type": "stream",
     "text": [
      "Enter n:  4\n"
     ]
    },
    {
     "name": "stdout",
     "output_type": "stream",
     "text": [
      "24\n"
     ]
    }
   ],
   "source": [
    "#6\n",
    "n = int(input(\"Enter n: \"))\n",
    "product = 1\n",
    "for i in range(1, n+1):\n",
    "    product *= i\n",
    "print(product)"
   ]
  },
  {
   "cell_type": "code",
   "execution_count": 17,
   "id": "f7038e99-5c18-4c40-8a13-71a42e23bbf1",
   "metadata": {},
   "outputs": [
    {
     "name": "stdin",
     "output_type": "stream",
     "text": [
      "Enter first number:  6\n",
      "Enter second number:  8\n"
     ]
    },
    {
     "name": "stdout",
     "output_type": "stream",
     "text": [
      "14.0\n"
     ]
    }
   ],
   "source": [
    "#7\n",
    "a = int(input(\"Enter first number: \"))\n",
    "b = int(input(\"Enter second number: \"))\n",
    "print(float(a + b))"
   ]
  },
  {
   "cell_type": "code",
   "execution_count": 19,
   "id": "e2bb9eab-5daf-446f-8695-1b7f522bcf17",
   "metadata": {},
   "outputs": [
    {
     "name": "stdin",
     "output_type": "stream",
     "text": [
      "Enter n:  2\n"
     ]
    },
    {
     "name": "stdout",
     "output_type": "stream",
     "text": [
      "Hello\n",
      "Hello\n"
     ]
    }
   ],
   "source": [
    "#8\n",
    "n = int(input(\"Enter n: \"))\n",
    "for i in range(n):\n",
    "    print(\"Hello\")"
   ]
  },
  {
   "cell_type": "code",
   "execution_count": 20,
   "id": "3ad81dfd-b4a2-4ebd-bd63-55151948b37e",
   "metadata": {},
   "outputs": [
    {
     "name": "stdin",
     "output_type": "stream",
     "text": [
      "Enter n:  5\n"
     ]
    },
    {
     "name": "stdout",
     "output_type": "stream",
     "text": [
      "1\n",
      "2\n",
      "3\n",
      "5\n"
     ]
    }
   ],
   "source": [
    "#9\n",
    "n = int(input(\"Enter n: \"))\n",
    "for i in range(1, n+1):\n",
    "    if i % 4 == 0:\n",
    "        continue\n",
    "    print(i)"
   ]
  },
  {
   "cell_type": "code",
   "execution_count": 21,
   "id": "9e137b24-5a66-4200-be03-db2f58396257",
   "metadata": {},
   "outputs": [
    {
     "name": "stdin",
     "output_type": "stream",
     "text": [
      "Enter number:  20\n"
     ]
    },
    {
     "name": "stdout",
     "output_type": "stream",
     "text": [
      "5\n"
     ]
    }
   ],
   "source": [
    "#10\n",
    "n = int(input(\"Enter number: \"))\n",
    "c = 0\n",
    "for i in range(n):\n",
    "    n = n / 2\n",
    "    c += 1\n",
    "    if n < 1:\n",
    "        break\n",
    "print(c)"
   ]
  },
  {
   "cell_type": "code",
   "execution_count": 22,
   "id": "feb45a21-2be2-4c22-9dae-5afb19610b03",
   "metadata": {},
   "outputs": [
    {
     "name": "stdin",
     "output_type": "stream",
     "text": [
      "Enter a:  8\n",
      "Enter b:  6\n"
     ]
    },
    {
     "name": "stdout",
     "output_type": "stream",
     "text": [
      "21\n"
     ]
    }
   ],
   "source": [
    "#11\n",
    "a = int(input(\"Enter a: \"))\n",
    "b = int(input(\"Enter b: \"))\n",
    "if a > b:\n",
    "    a, b = b, a\n",
    "s = 0\n",
    "for i in range(a, b+1):\n",
    "    s += i\n",
    "print(s)"
   ]
  },
  {
   "cell_type": "code",
   "execution_count": null,
   "id": "e03c91f6-f461-44b8-afe8-b3c5a197eff0",
   "metadata": {},
   "outputs": [],
   "source": []
  }
 ],
 "metadata": {
  "kernelspec": {
   "display_name": "Python 3 (ipykernel)",
   "language": "python",
   "name": "python3"
  },
  "language_info": {
   "codemirror_mode": {
    "name": "ipython",
    "version": 3
   },
   "file_extension": ".py",
   "mimetype": "text/x-python",
   "name": "python",
   "nbconvert_exporter": "python",
   "pygments_lexer": "ipython3",
   "version": "3.12.7"
  }
 },
 "nbformat": 4,
 "nbformat_minor": 5
}
