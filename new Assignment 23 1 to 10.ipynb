{
 "cells": [
  {
   "cell_type": "code",
   "execution_count": 1,
   "id": "bd2ce883-09e0-4cee-a3d1-0fa556f3d968",
   "metadata": {},
   "outputs": [
    {
     "name": "stdin",
     "output_type": "stream",
     "text": [
      "Enter a number:  34\n"
     ]
    },
    {
     "name": "stdout",
     "output_type": "stream",
     "text": [
      "Reversed number: 43\n"
     ]
    }
   ],
   "source": [
    "#1.\n",
    "num = int(input(\"Enter a number: \"))\n",
    "reversed_num = int(str(num)[::-1])\n",
    "print(\"Reversed number:\", reversed_num)"
   ]
  },
  {
   "cell_type": "code",
   "execution_count": 2,
   "id": "7fe9fd06-0d28-491d-83c1-ade9aa79d923",
   "metadata": {},
   "outputs": [
    {
     "name": "stdout",
     "output_type": "stream",
     "text": [
      "[True, False, True, False]\n"
     ]
    }
   ],
   "source": [
    "#2.\n",
    "numbers = [14, 10, 21, 25]\n",
    "div_by_7 = list(map(lambda x: x % 7 == 0, numbers))\n",
    "print(div_by_7)"
   ]
  },
  {
   "cell_type": "code",
   "execution_count": 3,
   "id": "e84b5e37-e305-40f1-8a56-5891a1adef95",
   "metadata": {},
   "outputs": [
    {
     "name": "stdout",
     "output_type": "stream",
     "text": [
      "Even numbers: [2, 4, 6, 8, 10]\n"
     ]
    }
   ],
   "source": [
    "#3.\n",
    "numbers = [1, 2, 3, 4, 5, 6, 7, 8, 9, 10]\n",
    "even_numbers = list(filter(lambda x: x % 2 == 0, numbers))\n",
    "print(\"Even numbers:\", even_numbers)"
   ]
  },
  {
   "cell_type": "code",
   "execution_count": 4,
   "id": "ca381f10-328f-48e3-9e3c-2de0d8c25801",
   "metadata": {},
   "outputs": [
    {
     "name": "stdout",
     "output_type": "stream",
     "text": [
      "Numbers with even digit product: [122, 246, 134, 789]\n"
     ]
    }
   ],
   "source": [
    "#4.\n",
    "numbers = [122, 246, 134, 789]\n",
    "def is_product_even(n):\n",
    "    product = 1\n",
    "    for digit in str(n):\n",
    "        product *= int(digit)\n",
    "    return product % 2 == 0\n",
    "even_product_numbers = list(filter(is_product_even, numbers))\n",
    "print(\"Numbers with even digit product:\", even_product_numbers)"
   ]
  },
  {
   "cell_type": "code",
   "execution_count": 17,
   "id": "3e271490-b052-4128-801d-13444ff49131",
   "metadata": {},
   "outputs": [
    {
     "name": "stdout",
     "output_type": "stream",
     "text": [
      "60\n"
     ]
    }
   ],
   "source": [
    "#5.\n",
    "from functools import reduce\n",
    "numbers = [20, 10, 40, 50, 30]\n",
    "sum_min_max = reduce(lambda x, y: x + y, [min(numbers), max(numbers)])\n",
    "print(sum_min_max)"
   ]
  },
  {
   "cell_type": "code",
   "execution_count": 35,
   "id": "2bf99f59-d562-4a3a-8552-bc3ff0a1f41d",
   "metadata": {},
   "outputs": [
    {
     "name": "stdout",
     "output_type": "stream",
     "text": [
      "2\n"
     ]
    }
   ],
   "source": [
    "#6.\n",
    "from functools import reduce\n",
    "nums = [10, 20, 30, 40, 50]\n",
    "total, n = reduce(lambda a, b: (a[0]+b, a[1]+1), nums, (0, 0))\n",
    "avg = total / n\n",
    "print(count)"
   ]
  },
  {
   "cell_type": "code",
   "execution_count": 32,
   "id": "bc104646-78a0-43ac-ad42-84ff4dcfdf0a",
   "metadata": {},
   "outputs": [
    {
     "name": "stdout",
     "output_type": "stream",
     "text": [
      "30.0\n"
     ]
    }
   ],
   "source": [
    "#7.\n",
    "from functools import reduce\n",
    "nums = [10, 20, 30, 40, 50]\n",
    "total, count = reduce(lambda a, b: (a[0]+b, a[1]+1), nums, (0, 0))\n",
    "avg = total / count\n",
    "print(avg)"
   ]
  },
  {
   "cell_type": "code",
   "execution_count": 36,
   "id": "3b3e8db8-f177-4469-8e3a-8366b85559e9",
   "metadata": {},
   "outputs": [
    {
     "name": "stdout",
     "output_type": "stream",
     "text": [
      "[1, 9]\n"
     ]
    }
   ],
   "source": [
    "#8.\n",
    "nums = [1, 2, 3, 4, 5, 6, 7, 8, 9]\n",
    "result = list(filter(lambda x: (x*x) % 10 == 1, nums))\n",
    "print(result)"
   ]
  },
  {
   "cell_type": "code",
   "execution_count": null,
   "id": "886e8531-1a24-4ccc-9549-0e95487c28db",
   "metadata": {},
   "outputs": [],
   "source": [
    "#9.\n",
    "nums = [12, 34, 56, 78, 91]"
   ]
  },
  {
   "cell_type": "code",
   "execution_count": null,
   "id": "c46c8ac4-f179-4f6f-bee0-b846cc1832e6",
   "metadata": {},
   "outputs": [],
   "source": [
    "#10.\n"
   ]
  }
 ],
 "metadata": {
  "kernelspec": {
   "display_name": "Python 3 (ipykernel)",
   "language": "python",
   "name": "python3"
  },
  "language_info": {
   "codemirror_mode": {
    "name": "ipython",
    "version": 3
   },
   "file_extension": ".py",
   "mimetype": "text/x-python",
   "name": "python",
   "nbconvert_exporter": "python",
   "pygments_lexer": "ipython3",
   "version": "3.12.7"
  }
 },
 "nbformat": 4,
 "nbformat_minor": 5
}
