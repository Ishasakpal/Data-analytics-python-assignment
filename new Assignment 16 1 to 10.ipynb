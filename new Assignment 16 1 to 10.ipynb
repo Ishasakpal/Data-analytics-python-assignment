{
 "cells": [
  {
   "cell_type": "code",
   "execution_count": 2,
   "id": "53e7bd10-abed-4542-89de-0c693b8f41a2",
   "metadata": {},
   "outputs": [
    {
     "name": "stdout",
     "output_type": "stream",
     "text": [
      "Name: Isha\n",
      "Scores: (85, 90)\n",
      "Weights: {'math': 2, 'english': 1}\n"
     ]
    }
   ],
   "source": [
    "#1.\n",
    "def create_student_profile(name, *scores, **weights):\n",
    "    print(\"Name:\", name)\n",
    "    print(\"Scores:\", scores)\n",
    "    print(\"Weights:\", weights)\n",
    "create_student_profile(\"Isha\", 85, 90, math=2, english=1)"
   ]
  },
  {
   "cell_type": "code",
   "execution_count": 20,
   "id": "11bf0ebd-194e-4aca-a31c-3bc481db45c5",
   "metadata": {},
   "outputs": [
    {
     "name": "stdout",
     "output_type": "stream",
     "text": [
      "Region: East\n",
      "Sales: (200, 300, 250)\n",
      "Total Bonus: 150\n",
      "Number of Days: 3\n"
     ]
    }
   ],
   "source": [
    "#2.\n",
    "def sales_report(region, *sales, **bonuses):\n",
    "    total_bonus = sum(bonuses.values())\n",
    "    days = 0\n",
    "    for _ in sales:\n",
    "      days += 1\n",
    "    print(\"Region:\", region)\n",
    "    print(\"Sales:\", sales)\n",
    "    print(\"Total Bonus:\", total_bonus)\n",
    "    print(\"Number of Days:\", days)\n",
    "sales_report(\"East\", 200, 300, 250, day1=100, day3=50)"
   ]
  },
  {
   "cell_type": "code",
   "execution_count": 21,
   "id": "d2337d31-441c-4054-915f-141d75086782",
   "metadata": {},
   "outputs": [
    {
     "name": "stdout",
     "output_type": "stream",
     "text": [
      "Account Type: savings\n",
      "Transactions: (500, -200, 300)\n",
      "Adjustments: {'interest': 50, 'fees': -10}\n",
      "Final Balance: 640\n"
     ]
    }
   ],
   "source": [
    "#3.\n",
    "def account_summary(account_type, *transactions, **adjustments):\n",
    "    total = 0\n",
    "    for t in transactions:\n",
    "        total += t\n",
    "    for a in adjustments.values():\n",
    "        total += a\n",
    "    print(\"Account Type:\", account_type)\n",
    "    print(\"Transactions:\", transactions)\n",
    "    print(\"Adjustments:\", adjustments)\n",
    "    print(\"Final Balance:\", total)\n",
    "account_summary(\"savings\", 500, -200, 300, interest=50, fees=-10)"
   ]
  },
  {
   "cell_type": "code",
   "execution_count": 4,
   "id": "cdec1700-df0a-45a5-ae4b-61164317a6d1",
   "metadata": {},
   "outputs": [
    {
     "name": "stdout",
     "output_type": "stream",
     "text": [
      "Student: Isha\n",
      "Score: 225\n"
     ]
    }
   ],
   "source": [
    "#4.\n",
    "def grade_exam(student, *marks, **penalties):\n",
    "    total = sum(marks) - sum(penalties.values())\n",
    "    print(\"Student:\", student)\n",
    "    print(\"Score:\", total)\n",
    "grade_exam(\"Isha\", 80, 90, 70, late=5, cheating=10)"
   ]
  },
  {
   "cell_type": "code",
   "execution_count": 81,
   "id": "9ac17cd4-1b33-404d-8ef9-3d0bf5d40711",
   "metadata": {},
   "outputs": [
    {
     "name": "stdout",
     "output_type": "stream",
     "text": [
      "2 True\n",
      "4 False\n",
      "5 True\n",
      "10 False\n"
     ]
    }
   ],
   "source": [
    "#5\n",
    "def check_primes(*args):\n",
    "    for n in args:\n",
    "        if n < 2:\n",
    "            print(n, False)\n",
    "        else:\n",
    "            prime = True\n",
    "            for i in range(2, n):\n",
    "                 if n % i == 0:\n",
    "                   prime = False\n",
    "        if prime:\n",
    "            print(n, True)\n",
    "        else:\n",
    "            print(n, False)\n",
    "check_primes(2, 4, 5, 10,)\n"
   ]
  },
  {
   "cell_type": "code",
   "execution_count": 45,
   "id": "fe84f77c-1185-4dd1-bc02-d6011baa7505",
   "metadata": {},
   "outputs": [
    {
     "name": "stdout",
     "output_type": "stream",
     "text": [
      "6 is Perfect Number\n",
      "12 is Not Perfect Number\n"
     ]
    },
    {
     "data": {
      "text/plain": [
       "list"
      ]
     },
     "execution_count": 45,
     "metadata": {},
     "output_type": "execute_result"
    }
   ],
   "source": [
    "#6\n",
    "def check_perfect_numbers(*args):\n",
    "    for n in args:\n",
    "        s = 0\n",
    "        for i in range(1, n):\n",
    "            if n % i == 0:\n",
    "                s += i\n",
    "        if s == n:\n",
    "            print(n, \"is Perfect Number\")ki\n",
    "        else:\n",
    "            print(n, \"is Not Perfect Number\")\n",
    "            return list\n",
    "check_perfect_numbers(6,12)"
   ]
  },
  {
   "cell_type": "code",
   "execution_count": 46,
   "id": "b326e046-a989-4989-a3db-4bd6ea0a9068",
   "metadata": {},
   "outputs": [
    {
     "name": "stdout",
     "output_type": "stream",
     "text": [
      "3\n",
      "6\n",
      "9\n",
      "12\n"
     ]
    }
   ],
   "source": [
    "#7\n",
    "def filter_divisible(divisor, *args):\n",
    "    for n in args:\n",
    "        if n % divisor == 0:\n",
    "            print(n)\n",
    "filter_divisible(3, 2, 3, 4, 6, 9, 10, 12)"
   ]
  },
  {
   "cell_type": "code",
   "execution_count": 50,
   "id": "7d729b7e-f78b-424c-8bad-71c20deb5e7f",
   "metadata": {},
   "outputs": [
    {
     "name": "stdout",
     "output_type": "stream",
     "text": [
      "True\n",
      "False\n"
     ]
    }
   ],
   "source": [
    "#8\n",
    "def is_prime(num):\n",
    "    if num < 2:\n",
    "        return False\n",
    "    for i in range(2, num):\n",
    "        if num % i == 0:\n",
    "            return False\n",
    "    else:\n",
    "        return True\n",
    "print(is_prime(7))\n",
    "print(is_prime(10))"
   ]
  },
  {
   "cell_type": "code",
   "execution_count": 73,
   "id": "f51e4d00-8112-46f6-8f74-1675fca2f2d5",
   "metadata": {},
   "outputs": [
    {
     "name": "stdout",
     "output_type": "stream",
     "text": [
      "1 In 1 divisors\n",
      "2 In 2 divisors\n",
      "5 In 2 divisors\n"
     ]
    }
   ],
   "source": [
    "#9\n",
    "def count_divisors(*args):\n",
    "    for n in args:\n",
    "        c = 0\n",
    "        for i in range(1, n+1):\n",
    "            if n % i == 0:\n",
    "                c += 1\n",
    "        print(n, \"In\",c, \"divisors\")\n",
    "count_divisors(1, 2, 5)"
   ]
  },
  {
   "cell_type": "code",
   "execution_count": 78,
   "id": "5554be62-4172-411a-8896-8b8903f36653",
   "metadata": {},
   "outputs": [
    {
     "name": "stdout",
     "output_type": "stream",
     "text": [
      "35\n"
     ]
    }
   ],
   "source": [
    "#10\n",
    "def sum_of_powers(power, *args):\n",
    "    s = 0\n",
    "    for n in args:\n",
    "        s = s + n ** power\n",
    "    print(s)\n",
    "sum_of_powers(3, 2, 3, )"
   ]
  }
 ],
 "metadata": {
  "kernelspec": {
   "display_name": "Python 3 (ipykernel)",
   "language": "python",
   "name": "python3"
  },
  "language_info": {
   "codemirror_mode": {
    "name": "ipython",
    "version": 3
   },
   "file_extension": ".py",
   "mimetype": "text/x-python",
   "name": "python",
   "nbconvert_exporter": "python",
   "pygments_lexer": "ipython3",
   "version": "3.12.7"
  }
 },
 "nbformat": 4,
 "nbformat_minor": 5
}
