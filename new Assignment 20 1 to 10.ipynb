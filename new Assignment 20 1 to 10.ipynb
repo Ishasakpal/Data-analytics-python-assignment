{
 "cells": [
  {
   "cell_type": "code",
   "execution_count": 67,
   "id": "f43f1f2e-3113-46bd-90f5-542e4a1e3052",
   "metadata": {},
   "outputs": [
    {
     "name": "stdout",
     "output_type": "stream",
     "text": [
      "Lower Quartile (Q1): 15\n",
      "Upper Quartile (Q3): 40\n"
     ]
    }
   ],
   "source": [
    "#1\n",
    "def calculate_quartiles(data):\n",
    "    n = 0\n",
    "    for _ in data:\n",
    "        n += 1\n",
    "    for i in range(n):\n",
    "        for j in range(i+1, n):\n",
    "            if data[i] > data[j]:\n",
    "                data[i], data[j] = data[j], data[i]\n",
    "    q1 = data[n // 4]\n",
    "    q3 = data[3 * n // 4]\n",
    "    return q1, q3\n",
    "data = [12, 15, 18, 20, 22, 25, 14, 35, 40, 45, 55]\n",
    "q1, q3 = calculate_quartiles(data)\n",
    "print(\"Lower Quartile (Q1):\", q1)\n",
    "print(\"Upper Quartile (Q3):\", q3)"
   ]
  },
  {
   "cell_type": "code",
   "execution_count": 66,
   "id": "ba74e606-392c-4541-8ea1-b173427713c8",
   "metadata": {},
   "outputs": [
    {
     "name": "stdout",
     "output_type": "stream",
     "text": [
      "Decreasing\n"
     ]
    }
   ],
   "source": [
    "#2\n",
    "def check(a, b):\n",
    "    if a < b:\n",
    "        return \"Increasing\"\n",
    "    elif a > b:\n",
    "        return \"Decreasing\"\n",
    "    else:\n",
    "        return \"Neither\"\n",
    "print(check(2, 1))"
   ]
  },
  {
   "cell_type": "code",
   "execution_count": 59,
   "id": "fd09191a-e57f-4dcf-8af4-866d1b1853de",
   "metadata": {},
   "outputs": [
    {
     "name": "stdout",
     "output_type": "stream",
     "text": [
      "(1.2727272727272727, 0.8181818181818182)\n"
     ]
    }
   ],
   "source": [
    "#3\n",
    "def solve_2x2(a1,b1,c1,a2,b2,c2):\n",
    "    d = a1*b2 - a2*b1\n",
    "    if d == 0:\n",
    "        return \"No unique solution\"\n",
    "    x = (c1*b2 - c2*b1) / d\n",
    "    y = (a1*c2 - a2*c1) / d\n",
    "    return x, y\n",
    "print(solve_2x2(2,3,5,1,-4,-2))"
   ]
  },
  {
   "cell_type": "code",
   "execution_count": 19,
   "id": "6f5e1f31-f328-45fb-861d-e951727d4d24",
   "metadata": {},
   "outputs": [
    {
     "name": "stdout",
     "output_type": "stream",
     "text": [
      "69\n"
     ]
    }
   ],
   "source": [
    "#4\n",
    "def poly(a,b,c,x):\n",
    "    p1=a*x*x\n",
    "    p2=b*x \n",
    "    p3=p1+p2\n",
    "    p4=p3+c\n",
    "    return p4\n",
    "print(poly(2,3,4,5))"
   ]
  },
  {
   "cell_type": "code",
   "execution_count": null,
   "id": "a43920c2-881d-48dc-bbee-8f88e0151109",
   "metadata": {},
   "outputs": [],
   "source": [
    "#5\n"
   ]
  },
  {
   "cell_type": "code",
   "execution_count": null,
   "id": "c94582c6-e473-42d2-bfc2-91dbea9a2507",
   "metadata": {},
   "outputs": [],
   "source": [
    "#6\n"
   ]
  },
  {
   "cell_type": "code",
   "execution_count": null,
   "id": "bfc3d303-9f1a-448b-9857-64012635b217",
   "metadata": {},
   "outputs": [],
   "source": [
    "#7\n"
   ]
  },
  {
   "cell_type": "code",
   "execution_count": null,
   "id": "730dc94d-89fd-4c91-afa5-d2489e397865",
   "metadata": {},
   "outputs": [],
   "source": [
    "#9"
   ]
  },
  {
   "cell_type": "code",
   "execution_count": 70,
   "id": "6fbf6180-6079-40a1-baf0-ca81e0e64d0a",
   "metadata": {},
   "outputs": [
    {
     "name": "stdout",
     "output_type": "stream",
     "text": [
      "2\n"
     ]
    }
   ],
   "source": [
    "#10\n",
    "def most_frequent(a):\n",
    "    max_count = 0\n",
    "    val = a[0]\n",
    "    for i in a:\n",
    "        count = a.count(i)\n",
    "        if count > max_count:\n",
    "            max_count = count\n",
    "            val = i\n",
    "    return val\n",
    "data = [4, 2, 7, 4, 9, 4, 2, 8, 2, 2]\n",
    "print(most_frequent(data))"
   ]
  }
 ],
 "metadata": {
  "kernelspec": {
   "display_name": "Python 3 (ipykernel)",
   "language": "python",
   "name": "python3"
  },
  "language_info": {
   "codemirror_mode": {
    "name": "ipython",
    "version": 3
   },
   "file_extension": ".py",
   "mimetype": "text/x-python",
   "name": "python",
   "nbconvert_exporter": "python",
   "pygments_lexer": "ipython3",
   "version": "3.12.7"
  }
 },
 "nbformat": 4,
 "nbformat_minor": 5
}
