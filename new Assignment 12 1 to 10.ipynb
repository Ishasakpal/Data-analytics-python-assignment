{
 "cells": [
  {
   "cell_type": "code",
   "execution_count": 2,
   "id": "e2b6ddd2-580f-4ba0-96eb-0642d308f7b0",
   "metadata": {},
   "outputs": [
    {
     "name": "stdin",
     "output_type": "stream",
     "text": [
      "Enter first diagonal:  15\n",
      "Enter second diagonal:  20\n"
     ]
    },
    {
     "name": "stdout",
     "output_type": "stream",
     "text": [
      "Area of Rhombus: 300\n"
     ]
    }
   ],
   "source": [
    "#1\n",
    "def calculate_rhombus_area(diagonal1, diagonal2):\n",
    "    area = (diagonal1 * diagonal2)\n",
    "    return area\n",
    "d1 = int(input(\"Enter first diagonal: \"))\n",
    "d2 = int(input(\"Enter second diagonal: \"))\n",
    "print(\"Area of Rhombus:\", calculate_rhombus_area(d1, d2))"
   ]
  },
  {
   "cell_type": "code",
   "execution_count": 4,
   "id": "2ba78b6b-6d81-4122-82d4-96ee41f73d6a",
   "metadata": {},
   "outputs": [
    {
     "name": "stdin",
     "output_type": "stream",
     "text": [
      "Enter side length:  30\n"
     ]
    },
    {
     "name": "stdout",
     "output_type": "stream",
     "text": [
      "Perimeter of Rhombus: 120\n"
     ]
    }
   ],
   "source": [
    "#2\n",
    "def calculate_rhombus_perimeter(side):\n",
    "    return 4 * side\n",
    "side = int(input(\"Enter side length: \"))\n",
    "print(\"Perimeter of Rhombus:\", calculate_rhombus_perimeter(side))"
   ]
  },
  {
   "cell_type": "code",
   "execution_count": null,
   "id": "4c72baf3-2154-4125-a4cb-eb5540edd092",
   "metadata": {},
   "outputs": [],
   "source": [
    "#3"
   ]
  },
  {
   "cell_type": "code",
   "execution_count": 7,
   "id": "db0a21c0-290a-4f60-9e4b-8cb1998e407d",
   "metadata": {},
   "outputs": [
    {
     "name": "stdin",
     "output_type": "stream",
     "text": [
      "Enter first base:  2\n",
      "Enter second base:  3\n",
      "Enter height:  4\n"
     ]
    },
    {
     "name": "stdout",
     "output_type": "stream",
     "text": [
      "Area of Trapezium: 20\n"
     ]
    }
   ],
   "source": [
    "#4\n",
    "def calculate_trapezium_area(base1, base2, height):\n",
    "    return ((base1 + base2) * height)\n",
    "b1 = int(input(\"Enter first base: \"))\n",
    "b2 = int(input(\"Enter second base: \"))\n",
    "h = int(input(\"Enter height: \"))\n",
    "print(\"Area of Trapezium:\", calculate_trapezium_area(b1, b2, h))"
   ]
  },
  {
   "cell_type": "code",
   "execution_count": 12,
   "id": "3b8c40c4-3d56-42b4-8ca6-04efad2805a6",
   "metadata": {},
   "outputs": [
    {
     "name": "stdin",
     "output_type": "stream",
     "text": [
      "Enter x1:  4\n",
      "Enter y1:  2\n",
      "Enter x2:  3\n",
      "Enter y2:  5\n"
     ]
    },
    {
     "name": "stdout",
     "output_type": "stream",
     "text": [
      "Dot Product: 22\n"
     ]
    }
   ],
   "source": [
    "#5\n",
    "def calculate_dot_product(vec1_x, vec1_y, vec2_x, vec2_y):\n",
    "    return  x1 * x2 + y1 * y2\n",
    "x1 = int(input(\"Enter x1: \"))\n",
    "y1 = int(input(\"Enter y1: \"))\n",
    "x2 = int(input(\"Enter x2: \"))\n",
    "y2 = int(input(\"Enter y2: \"))\n",
    "print(\"Dot Product:\", calculate_dot_product(x1, y1, x2, y2))"
   ]
  },
  {
   "cell_type": "code",
   "execution_count": 16,
   "id": "5060dfd9-6f03-4c4d-a019-2b5102fa6ab1",
   "metadata": {},
   "outputs": [
    {
     "name": "stdin",
     "output_type": "stream",
     "text": [
      "Enter a number:  5\n"
     ]
    },
    {
     "name": "stdout",
     "output_type": "stream",
     "text": [
      "Factorial: 120\n"
     ]
    }
   ],
   "source": [
    "#6\n",
    "def calculate_factorial(n):\n",
    "    factorial= 1\n",
    "    for i in range(1, n + 1):\n",
    "        factorial*= i\n",
    "    return factorial\n",
    "n = int(input(\"Enter a number: \"))\n",
    "print(\"Factorial:\", calculate_factorial(n))"
   ]
  },
  {
   "cell_type": "code",
   "execution_count": 17,
   "id": "285b517d-801e-4e69-8fd8-7635fb651d28",
   "metadata": {},
   "outputs": [
    {
     "name": "stdin",
     "output_type": "stream",
     "text": [
      "Enter first number:  23\n",
      "Enter second number:  12\n",
      "Enter third number:  45\n"
     ]
    },
    {
     "name": "stdout",
     "output_type": "stream",
     "text": [
      "Mean: 80\n"
     ]
    }
   ],
   "source": [
    "#7\n",
    "def calculate_mean(numbers):\n",
    "    return sum(numbers)\n",
    "num1 = int(input(\"Enter first number: \"))\n",
    "num2 = int(input(\"Enter second number: \"))\n",
    "num3 = int(input(\"Enter third number: \"))\n",
    "print(\"Mean:\", calculate_mean([num1, num2, num3]))"
   ]
  },
  {
   "cell_type": "code",
   "execution_count": null,
   "id": "e7741ba1-fd26-4bd0-b49c-496c425fa4f1",
   "metadata": {},
   "outputs": [],
   "source": [
    "#8\n"
   ]
  },
  {
   "cell_type": "code",
   "execution_count": null,
   "id": "c0fe42e8-622d-4f5c-88ee-8384a5f52b91",
   "metadata": {},
   "outputs": [],
   "source": [
    "#9\n"
   ]
  },
  {
   "cell_type": "code",
   "execution_count": null,
   "id": "5f7bbe35-acab-46f3-ae30-aff22823d962",
   "metadata": {},
   "outputs": [],
   "source": [
    "#10\n"
   ]
  }
 ],
 "metadata": {
  "kernelspec": {
   "display_name": "Python 3 (ipykernel)",
   "language": "python",
   "name": "python3"
  },
  "language_info": {
   "codemirror_mode": {
    "name": "ipython",
    "version": 3
   },
   "file_extension": ".py",
   "mimetype": "text/x-python",
   "name": "python",
   "nbconvert_exporter": "python",
   "pygments_lexer": "ipython3",
   "version": "3.12.7"
  }
 },
 "nbformat": 4,
 "nbformat_minor": 5
}
