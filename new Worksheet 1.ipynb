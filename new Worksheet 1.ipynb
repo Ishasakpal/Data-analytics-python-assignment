{
 "cells": [
  {
   "cell_type": "code",
   "execution_count": 1,
   "id": "1ac08f89-d74f-410e-a67a-b3528d2f69b5",
   "metadata": {},
   "outputs": [
    {
     "name": "stdin",
     "output_type": "stream",
     "text": [
      "Enter a number:  232\n"
     ]
    },
    {
     "name": "stdout",
     "output_type": "stream",
     "text": [
      "Number of divisors: 8\n"
     ]
    }
   ],
   "source": [
    "#1.\n",
    "n = int(input(\"Enter a number: \"))\n",
    "count = 0\n",
    "for i in range(1, n+1):\n",
    "    if n % i == 0:\n",
    "        count = count + 1\n",
    "print(\"Number of divisors:\", count)"
   ]
  },
  {
   "cell_type": "code",
   "execution_count": null,
   "id": "6b53d180-73b1-454a-86e2-efc31289bf0f",
   "metadata": {},
   "outputs": [],
   "source": [
    "#2."
   ]
  },
  {
   "cell_type": "code",
   "execution_count": 21,
   "id": "5b661fdd-0706-4d68-9895-d3f5e2cd52e5",
   "metadata": {},
   "outputs": [
    {
     "name": "stdin",
     "output_type": "stream",
     "text": [
      "Enter a 4-digit number: 34\n"
     ]
    },
    {
     "name": "stdout",
     "output_type": "stream",
     "text": [
      "Lucky number\n"
     ]
    },
    {
     "ename": "SyntaxError",
     "evalue": "'break' outside loop (648866051.py, line 4)",
     "output_type": "error",
     "traceback": [
      "\u001b[1;36m  Cell \u001b[1;32mIn[21], line 4\u001b[1;36m\u001b[0m\n\u001b[1;33m    break\u001b[0m\n\u001b[1;37m    ^\u001b[0m\n\u001b[1;31mSyntaxError\u001b[0m\u001b[1;31m:\u001b[0m 'break' outside loop\n"
     ]
    }
   ],
   "source": [
    "#3.\n",
    "n=int(input(\"Enter a 4-digit number:\"))\n",
    "print(\"Lucky number\")\n",
    "break\n",
    "print(\"Not lucky\")"
   ]
  },
  {
   "cell_type": "code",
   "execution_count": null,
   "id": "deb43ada-b8d6-42b5-977c-b78d92d65db1",
   "metadata": {},
   "outputs": [],
   "source": [
    "#4.\n",
    "n = int(input(\"Enter a number: \"))\n",
    "if 5000 <= n <= 10000:\n",
    "    print(\"In range\")\n",
    "else:\n",
    "    print(\"Out of range\")"
   ]
  },
  {
   "cell_type": "code",
   "execution_count": 34,
   "id": "4458f1bd-b413-482b-ae6b-94b35a1d631b",
   "metadata": {},
   "outputs": [
    {
     "name": "stdin",
     "output_type": "stream",
     "text": [
      "Enter a number: 4782\n"
     ]
    },
    {
     "name": "stdout",
     "output_type": "stream",
     "text": [
      "Largest digit: 0\n"
     ]
    }
   ],
   "source": [
    "#5.\n",
    "num=4782\n",
    "n=input(\"Enter a number:\")\n",
    "print(\"Largest digit:\",largest)"
   ]
  },
  {
   "cell_type": "code",
   "execution_count": 35,
   "id": "7731f75e-e5bc-44c8-ba87-14750474ea73",
   "metadata": {},
   "outputs": [
    {
     "name": "stdin",
     "output_type": "stream",
     "text": [
      "Enter password:  abc\n",
      "Enter password:  123\n",
      "Enter password:  python123\n"
     ]
    },
    {
     "name": "stdout",
     "output_type": "stream",
     "text": [
      "Access Granted\n"
     ]
    }
   ],
   "source": [
    "#6.\n",
    "password = \"python123\"\n",
    "for i in range(3):\n",
    "    p = input(\"Enter password: \")\n",
    "    if p == password:\n",
    "        print(\"Access Granted\")\n",
    "        break\n",
    "else:\n",
    "    print(\"Access Denied\")"
   ]
  },
  {
   "cell_type": "code",
   "execution_count": 36,
   "id": "c29099c8-6026-4e0e-8cff-a20ae2c3356b",
   "metadata": {},
   "outputs": [
    {
     "name": "stdout",
     "output_type": "stream",
     "text": [
      "2\n",
      "4\n",
      "8\n",
      "16\n",
      "32\n",
      "64\n",
      "128\n",
      "256\n",
      "512\n"
     ]
    }
   ],
   "source": [
    "#7.\n",
    "n = 2\n",
    "while n <= 1000:\n",
    "    print(n)\n",
    "    n = n * 2"
   ]
  },
  {
   "cell_type": "code",
   "execution_count": null,
   "id": "f0a07b8c-9982-421a-984b-3cbddc53d93e",
   "metadata": {},
   "outputs": [],
   "source": [
    "#8."
   ]
  },
  {
   "cell_type": "code",
   "execution_count": null,
   "id": "2b297581-355b-49a0-8c83-d52b6c7d08b7",
   "metadata": {},
   "outputs": [],
   "source": [
    "#9."
   ]
  },
  {
   "cell_type": "code",
   "execution_count": null,
   "id": "6da7a17a-ad13-479d-8795-71a5efba00cd",
   "metadata": {},
   "outputs": [],
   "source": [
    "#10."
   ]
  }
 ],
 "metadata": {
  "kernelspec": {
   "display_name": "Python 3 (ipykernel)",
   "language": "python",
   "name": "python3"
  },
  "language_info": {
   "codemirror_mode": {
    "name": "ipython",
    "version": 3
   },
   "file_extension": ".py",
   "mimetype": "text/x-python",
   "name": "python",
   "nbconvert_exporter": "python",
   "pygments_lexer": "ipython3",
   "version": "3.12.7"
  }
 },
 "nbformat": 4,
 "nbformat_minor": 5
}
