{
 "cells": [
  {
   "cell_type": "code",
   "execution_count": 2,
   "id": "bfb67b72-55b3-4e0b-ab48-31cf44a48d78",
   "metadata": {},
   "outputs": [
    {
     "name": "stdin",
     "output_type": "stream",
     "text": [
      "Enter first number:  23\n",
      "Enter second number:  45\n",
      "Enter third number:  12\n"
     ]
    },
    {
     "name": "stdout",
     "output_type": "stream",
     "text": [
      "Maximum number is: 45\n"
     ]
    }
   ],
   "source": [
    "#1\n",
    "def maximum(a, b, c):\n",
    "    if a >= b and a >= c:\n",
    "        return a\n",
    "    elif b >= a and b >= c:\n",
    "        return b\n",
    "    else:\n",
    "        return c\n",
    "a = int(input(\"Enter first number: \"))\n",
    "b = int(input(\"Enter second number: \"))\n",
    "c = int(input(\"Enter third number: \"))\n",
    "print(\"Maximum number is:\", maximum(a, b, c))"
   ]
  },
  {
   "cell_type": "code",
   "execution_count": 3,
   "id": "bbcd721f-1c2b-42ce-a7ff-b9de3f5a98e6",
   "metadata": {},
   "outputs": [
    {
     "name": "stdout",
     "output_type": "stream",
     "text": [
      "1\n",
      "4\n",
      "9\n",
      "16\n",
      "25\n",
      "36\n",
      "49\n",
      "64\n",
      "81\n",
      "100\n",
      "121\n",
      "144\n",
      "169\n",
      "196\n",
      "225\n",
      "256\n",
      "289\n",
      "324\n",
      "361\n",
      "400\n",
      "441\n",
      "484\n",
      "529\n",
      "576\n",
      "625\n",
      "676\n",
      "729\n",
      "784\n",
      "841\n",
      "900\n"
     ]
    }
   ],
   "source": [
    "#2\n",
    "def squares():\n",
    "    for i in range(1, 31):\n",
    "        print(i * i)\n",
    "squares()"
   ]
  },
  {
   "cell_type": "code",
   "execution_count": 9,
   "id": "8839d58f-5344-4290-9794-9dae3eeaca20",
   "metadata": {},
   "outputs": [
    {
     "name": "stdin",
     "output_type": "stream",
     "text": [
      "Enter a number:  15\n",
      "Enter lower range:  10\n",
      "Enter upper range:  20\n"
     ]
    },
    {
     "name": "stdout",
     "output_type": "stream",
     "text": [
      "15 is in the range.\n"
     ]
    }
   ],
   "source": [
    "#3\n",
    "def check_range():\n",
    "    num= int(input(\"Enter a number: \"))\n",
    "    low = int(input(\"Enter lower range: \"))\n",
    "    high = int(input(\"Enter upper range: \"))\n",
    "    if num>= low and num <= high:\n",
    "        print(num, \"is in the range.\")\n",
    "    else:\n",
    "        print(num, \"is not in the range.\")\n",
    "check_range()"
   ]
  },
  {
   "cell_type": "code",
   "execution_count": 13,
   "id": "eeed31c9-a389-40a5-b068-2f47c5fc887c",
   "metadata": {},
   "outputs": [
    {
     "name": "stdin",
     "output_type": "stream",
     "text": [
      "Enter base:  8\n",
      "Enter height:  5\n"
     ]
    },
    {
     "name": "stdout",
     "output_type": "stream",
     "text": [
      "Area of triangle is: 40\n"
     ]
    }
   ],
   "source": [
    "#4\n",
    "def triangle_area():\n",
    "    base = int(input(\"Enter base: \"))\n",
    "    height = int(input(\"Enter height: \"))\n",
    "    area = (base * height)\n",
    "    print(\"Area of triangle is:\", area)\n",
    "triangle_area()"
   ]
  },
  {
   "cell_type": "code",
   "execution_count": null,
   "id": "54776d8f-4088-4aa2-9190-203af74bd013",
   "metadata": {},
   "outputs": [],
   "source": [
    "#5\n"
   ]
  },
  {
   "cell_type": "code",
   "execution_count": null,
   "id": "3c8cbbc9-bd3e-45cd-ae02-7cc5337faf33",
   "metadata": {},
   "outputs": [],
   "source": [
    "#6"
   ]
  },
  {
   "cell_type": "code",
   "execution_count": null,
   "id": "f9163581-59cb-4ac4-a000-cd8413cd1302",
   "metadata": {},
   "outputs": [],
   "source": [
    "#7"
   ]
  },
  {
   "cell_type": "code",
   "execution_count": 21,
   "id": "e30fae8a-99be-403a-8134-f33fcea58a22",
   "metadata": {},
   "outputs": [
    {
     "name": "stdin",
     "output_type": "stream",
     "text": [
      "Enter side of square:  3\n"
     ]
    },
    {
     "name": "stdout",
     "output_type": "stream",
     "text": [
      "Area of square: 9\n"
     ]
    }
   ],
   "source": [
    "#8\n",
    "def calculate_square_area(side):\n",
    "    return side * side\n",
    "s = int(input(\"Enter side of square: \"))\n",
    "print(\"Area of square:\", calculate_square_area(s))"
   ]
  },
  {
   "cell_type": "code",
   "execution_count": 24,
   "id": "e391d6c0-e0fb-4b55-89b3-d96ace0fa1a1",
   "metadata": {},
   "outputs": [
    {
     "name": "stdin",
     "output_type": "stream",
     "text": [
      "Enter side of square:  12\n"
     ]
    },
    {
     "name": "stdout",
     "output_type": "stream",
     "text": [
      "Perimeter of square: 48\n"
     ]
    }
   ],
   "source": [
    "#9\n",
    "def calculate_square_perimeter(side):\n",
    "    return 4 * side\n",
    "s = int(input(\"Enter side of square: \"))\n",
    "print(\"Perimeter of square:\", calculate_square_perimeter(s))"
   ]
  },
  {
   "cell_type": "code",
   "execution_count": 38,
   "id": "e7da940d-7c5d-4af8-afda-ebfec8349db2",
   "metadata": {},
   "outputs": [
    {
     "name": "stdin",
     "output_type": "stream",
     "text": [
      "Enter first side:  5\n",
      "Enter second side:  12\n"
     ]
    },
    {
     "name": "stdout",
     "output_type": "stream",
     "text": [
      "Hypotenuse: 13.0\n"
     ]
    }
   ],
   "source": [
    "#10\n",
    "def calculate_hypotenuse(side1, side2):\n",
    "    return (side1*side1 + side2*side2) ** 0.5 \n",
    "x = int(input(\"Enter first side: \"))\n",
    "y = int(input(\"Enter second side: \"))\n",
    "print(\"Hypotenuse:\", calculate_hypotenuse(x, y))"
   ]
  }
 ],
 "metadata": {
  "kernelspec": {
   "display_name": "Python 3 (ipykernel)",
   "language": "python",
   "name": "python3"
  },
  "language_info": {
   "codemirror_mode": {
    "name": "ipython",
    "version": 3
   },
   "file_extension": ".py",
   "mimetype": "text/x-python",
   "name": "python",
   "nbconvert_exporter": "python",
   "pygments_lexer": "ipython3",
   "version": "3.12.7"
  }
 },
 "nbformat": 4,
 "nbformat_minor": 5
}
